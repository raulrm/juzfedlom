{
 "cells": [
  {
   "cell_type": "code",
   "execution_count": 1,
   "id": "bdff7269-a193-4599-a4d5-713bf17ffee9",
   "metadata": {},
   "outputs": [],
   "source": [
    "# importamos librerias varias\n",
    "import pandas as pd\n",
    "from multiprocessing import Pool\n",
    "from pandas_ods_reader import read_ods\n",
    "import glob"
   ]
  },
  {
   "cell_type": "code",
   "execution_count": 8,
   "id": "0050c764-e1e1-4656-8d56-2743f372517a",
   "metadata": {},
   "outputs": [
    {
     "name": "stdout",
     "output_type": "stream",
     "text": [
      "CPU times: user 2min 50s, sys: 593 ms, total: 2min 50s\n",
      "Wall time: 2min 49s\n"
     ]
    },
    {
     "data": {
      "text/html": [
       "<div>\n",
       "<style scoped>\n",
       "    .dataframe tbody tr th:only-of-type {\n",
       "        vertical-align: middle;\n",
       "    }\n",
       "\n",
       "    .dataframe tbody tr th {\n",
       "        vertical-align: top;\n",
       "    }\n",
       "\n",
       "    .dataframe thead th {\n",
       "        text-align: right;\n",
       "    }\n",
       "</style>\n",
       "<table border=\"1\" class=\"dataframe\">\n",
       "  <thead>\n",
       "    <tr style=\"text-align: right;\">\n",
       "      <th></th>\n",
       "      <th>llamante</th>\n",
       "      <th>tipo</th>\n",
       "      <th>llamado</th>\n",
       "      <th>fechahora</th>\n",
       "      <th>duracion</th>\n",
       "    </tr>\n",
       "  </thead>\n",
       "  <tbody>\n",
       "    <tr>\n",
       "      <th>0</th>\n",
       "      <td>1132564419</td>\n",
       "      <td>TRAFICO DATOS</td>\n",
       "      <td>211687975</td>\n",
       "      <td>2023-09-09 00:00:00</td>\n",
       "      <td>2537</td>\n",
       "    </tr>\n",
       "    <tr>\n",
       "      <th>1</th>\n",
       "      <td>1162315544</td>\n",
       "      <td>WhatsApp Gratis</td>\n",
       "      <td>207880772</td>\n",
       "      <td>2023-09-09 00:00:00</td>\n",
       "      <td>33943</td>\n",
       "    </tr>\n",
       "    <tr>\n",
       "      <th>2</th>\n",
       "      <td>1162315544</td>\n",
       "      <td>Tráfico incluid</td>\n",
       "      <td>207880773</td>\n",
       "      <td>2023-09-09 00:00:00</td>\n",
       "      <td>2750065</td>\n",
       "    </tr>\n",
       "    <tr>\n",
       "      <th>3</th>\n",
       "      <td>1132963246</td>\n",
       "      <td>WhatsApp Gratis</td>\n",
       "      <td>317859585</td>\n",
       "      <td>2023-09-09 00:00:01</td>\n",
       "      <td>14291</td>\n",
       "    </tr>\n",
       "    <tr>\n",
       "      <th>4</th>\n",
       "      <td>1157287825</td>\n",
       "      <td>Conexión Móvil</td>\n",
       "      <td>211582832</td>\n",
       "      <td>2023-09-09 00:00:01</td>\n",
       "      <td>104</td>\n",
       "    </tr>\n",
       "    <tr>\n",
       "      <th>...</th>\n",
       "      <td>...</td>\n",
       "      <td>...</td>\n",
       "      <td>...</td>\n",
       "      <td>...</td>\n",
       "      <td>...</td>\n",
       "    </tr>\n",
       "    <tr>\n",
       "      <th>178092</th>\n",
       "      <td>1171163172</td>\n",
       "      <td>Conexion Movil</td>\n",
       "      <td>568313018</td>\n",
       "      <td>2023-09-09 23:59:58</td>\n",
       "      <td>841843347</td>\n",
       "    </tr>\n",
       "    <tr>\n",
       "      <th>178093</th>\n",
       "      <td>1151467918</td>\n",
       "      <td>Tráfico incluid</td>\n",
       "      <td>1081752</td>\n",
       "      <td>2023-09-09 23:59:59</td>\n",
       "      <td>685111</td>\n",
       "    </tr>\n",
       "    <tr>\n",
       "      <th>178094</th>\n",
       "      <td>1158659132</td>\n",
       "      <td>Conexión Móvil</td>\n",
       "      <td>948200406</td>\n",
       "      <td>2023-09-09 23:59:59</td>\n",
       "      <td>1064</td>\n",
       "    </tr>\n",
       "    <tr>\n",
       "      <th>178095</th>\n",
       "      <td>1133091831</td>\n",
       "      <td>Conexión Móvil</td>\n",
       "      <td>321963299</td>\n",
       "      <td>2023-10-09 00:00:00</td>\n",
       "      <td>8160</td>\n",
       "    </tr>\n",
       "    <tr>\n",
       "      <th>178096</th>\n",
       "      <td>1154033597</td>\n",
       "      <td>Tráfico incluid</td>\n",
       "      <td>213222958</td>\n",
       "      <td>2023-10-09 00:00:00</td>\n",
       "      <td>5578</td>\n",
       "    </tr>\n",
       "  </tbody>\n",
       "</table>\n",
       "<p>178097 rows × 5 columns</p>\n",
       "</div>"
      ],
      "text/plain": [
       "          llamante             tipo    llamado           fechahora   duracion\n",
       "0       1132564419   TRAFICO DATOS   211687975 2023-09-09 00:00:00       2537\n",
       "1       1162315544  WhatsApp Gratis  207880772 2023-09-09 00:00:00      33943\n",
       "2       1162315544  Tráfico incluid  207880773 2023-09-09 00:00:00    2750065\n",
       "3       1132963246  WhatsApp Gratis  317859585 2023-09-09 00:00:01      14291\n",
       "4       1157287825   Conexión Móvil  211582832 2023-09-09 00:00:01        104\n",
       "...            ...              ...        ...                 ...        ...\n",
       "178092  1171163172   Conexion Movil  568313018 2023-09-09 23:59:58  841843347\n",
       "178093  1151467918  Tráfico incluid    1081752 2023-09-09 23:59:59     685111\n",
       "178094  1158659132   Conexión Móvil  948200406 2023-09-09 23:59:59       1064\n",
       "178095  1133091831   Conexión Móvil  321963299 2023-10-09 00:00:00       8160\n",
       "178096  1154033597  Tráfico incluid  213222958 2023-10-09 00:00:00       5578\n",
       "\n",
       "[178097 rows x 5 columns]"
      ]
     },
     "execution_count": 8,
     "metadata": {},
     "output_type": "execute_result"
    }
   ],
   "source": [
    "# Esto es para probar si obtenemos los datos correctamente\n",
    "%%time\n",
    "test = pd.read_excel('ARCHIVO 5.ods', \n",
    "                     engine='odf', \n",
    "                     skiprows=11, \n",
    "                     sheet_name='Salientes', \n",
    "                     header=None, \n",
    "                     usecols=[0, 1, 2, 3, 4], \n",
    "                     #dtype={0: str, 1: str, 2: str, 3: pd.to_datetime})\n",
    "                     names = ['llamante', 'tipo', 'llamado', 'fechahora', 'duracion'])\n",
    "test.fechahora = pd.to_datetime(test.fechahora)\n",
    "test"
   ]
  },
  {
   "cell_type": "code",
   "execution_count": 9,
   "id": "68463c1a-ab4c-489f-8b0f-435b5d18a73a",
   "metadata": {},
   "outputs": [
    {
     "data": {
      "text/plain": [
       "llamante              int64\n",
       "tipo                 object\n",
       "llamado               int64\n",
       "fechahora    datetime64[ns]\n",
       "duracion              int64\n",
       "dtype: object"
      ]
     },
     "execution_count": 9,
     "metadata": {},
     "output_type": "execute_result"
    }
   ],
   "source": [
    "test.dtypes"
   ]
  },
  {
   "cell_type": "code",
   "execution_count": 3,
   "id": "c714b28c-43be-42b3-b639-41bae6d96e28",
   "metadata": {},
   "outputs": [
    {
     "data": {
      "text/plain": [
       "['ARCHIVO 13.ods',\n",
       " 'ARCHIVO 5.ods',\n",
       " 'ARCHIVO 28.ods',\n",
       " 'ARCHIVO 35.ods',\n",
       " 'ARCHIVO 33.ods',\n",
       " 'ARCHIVO 22.ods',\n",
       " 'ARCHIVO 9.ods',\n",
       " 'ARCHIVO 41.ods',\n",
       " 'ARCHIVO 34.ods',\n",
       " 'ARCHIVO 21.ods',\n",
       " 'ARCHIVO 39.ods',\n",
       " 'ARCHIVO 25.ods',\n",
       " 'ARCHIVO 15.ods',\n",
       " 'ARCHIVO 7.ods',\n",
       " 'ARCHIVO 27.ods',\n",
       " 'ARCHIVO 19.ods',\n",
       " 'ARCHIVO 38.ods',\n",
       " 'ARCHIVO 23.ods',\n",
       " 'ARCHIVO 2.ods',\n",
       " 'ARCHIVO 18.ods',\n",
       " 'ARCHIVO 12.ods',\n",
       " 'ARCHIVO 1.ods',\n",
       " 'ARCHIVO 40.ods',\n",
       " 'ARCHIVO 6.ods',\n",
       " 'ARCHIVO 37.ods',\n",
       " 'ARCHIVO 11.ods',\n",
       " 'ARCHIVO 20.ods',\n",
       " 'ARCHIVO 10.ods',\n",
       " 'ARCHIVO 24.ods',\n",
       " 'ARCHIVO 14.ods',\n",
       " 'ARCHIVO 26.ods',\n",
       " 'ARCHIVO 36.ods',\n",
       " 'ARCHIVO 8.ods',\n",
       " 'ARCHVIO 32.ods',\n",
       " 'ARCHVIO 31.ods',\n",
       " 'ARCHIVO 16.ods',\n",
       " 'ARCHIVO 17.ods',\n",
       " 'ARCHIVO 29.ods',\n",
       " 'ARCHIVO 3.ods',\n",
       " 'ARCHIVO 30.ods',\n",
       " 'ARCHIVO 4.ods']"
      ]
     },
     "execution_count": 3,
     "metadata": {},
     "output_type": "execute_result"
    }
   ],
   "source": [
    "# hacemos una lista con los archivos\n",
    "archivos = glob.glob('*.ods')\n",
    "# imprimimos la lista para ver si esta bien\n",
    "archivos"
   ]
  },
  {
   "cell_type": "code",
   "execution_count": 2,
   "id": "76f333d9-94a0-42d7-bb5b-c8cada7bb08d",
   "metadata": {},
   "outputs": [],
   "source": [
    "# para probar el concepto\n",
    "archivos_limitado = ['ARCHIVO 13.ods',\n",
    " 'ARCHIVO 5.ods',\n",
    " 'ARCHIVO 28.ods',\n",
    " 'ARCHIVO 35.ods']\n",
    "archivos_limitado\n",
    "archivos_limitado = ['ARCHIVO 13.ods',\n",
    " 'ARCHIVO 5.ods']"
   ]
  },
  {
   "cell_type": "code",
   "execution_count": 3,
   "id": "76ecb39c-2620-4908-b938-6c73e86154aa",
   "metadata": {},
   "outputs": [
    {
     "name": "stdout",
     "output_type": "stream",
     "text": [
      "ARCHIVO 13.ods\n",
      "ARCHIVO 5.ods\n",
      "CPU times: user 6min 36s, sys: 8.58 s, total: 6min 44s\n",
      "Wall time: 6min 45s\n"
     ]
    },
    {
     "data": {
      "text/plain": [
       "[          llamante          destino    llamado           fechahora   duracion\n",
       " 0       1125648533  Tráfico incluid  289588245 2023-06-09 00:00:00     520820\n",
       " 1       1151467918  Tráfico incluid  989231971 2023-06-09 00:00:00        271\n",
       " 2       1126429480   Conexión Móvil  304001608 2023-06-09 00:00:01       2881\n",
       " 3       1132962639   TRAFICO DATOS   551467088 2023-06-09 00:00:01       2575\n",
       " 4       1133212935  WhatsApp Gratis  347002546 2023-06-09 00:00:01       7935\n",
       " ...            ...              ...        ...                 ...        ...\n",
       " 161306  1126809626   Conexion Movil   81774015 2023-06-09 23:59:57  163035525\n",
       " 161307  1171404140   Conexión Móvil  315806711 2023-06-09 23:59:57        378\n",
       " 161308  1158875494   Conexión Móvil  288573541 2023-06-09 23:59:58        435\n",
       " 161309  1171282592   Conexion Movil  239508008 2023-06-09 23:59:59  205025210\n",
       " 161310  1176151175   Conexión Móvil  210155379 2023-06-09 23:59:59        222\n",
       " \n",
       " [161311 rows x 5 columns],\n",
       "           llamante          destino    llamado           fechahora   duracion\n",
       " 0       1132564419   TRAFICO DATOS   211687975 2023-09-09 00:00:00       2537\n",
       " 1       1162315544  WhatsApp Gratis  207880772 2023-09-09 00:00:00      33943\n",
       " 2       1162315544  Tráfico incluid  207880773 2023-09-09 00:00:00    2750065\n",
       " 3       1132963246  WhatsApp Gratis  317859585 2023-09-09 00:00:01      14291\n",
       " 4       1157287825   Conexión Móvil  211582832 2023-09-09 00:00:01        104\n",
       " ...            ...              ...        ...                 ...        ...\n",
       " 178092  1171163172   Conexion Movil  568313018 2023-09-09 23:59:58  841843347\n",
       " 178093  1151467918  Tráfico incluid    1081752 2023-09-09 23:59:59     685111\n",
       " 178094  1158659132   Conexión Móvil  948200406 2023-09-09 23:59:59       1064\n",
       " 178095  1133091831   Conexión Móvil  321963299 2023-10-09 00:00:00       8160\n",
       " 178096  1154033597  Tráfico incluid  213222958 2023-10-09 00:00:00       5578\n",
       " \n",
       " [178097 rows x 5 columns]]"
      ]
     },
     "execution_count": 3,
     "metadata": {},
     "output_type": "execute_result"
    }
   ],
   "source": [
    "%%time\n",
    "conjunto = []\n",
    "for archivo in archivos_limitado:\n",
    "    test = pd.read_excel(archivo, \n",
    "                     engine='odf', \n",
    "                     skiprows=11, \n",
    "                     sheet_name= 'Salientes', \n",
    "                     header=None, \n",
    "                     usecols=[0, 1, 2, 3, 4], \n",
    "                     #dtype={0: str, 1: str, 2: str, 3: pd.to_datetime})\n",
    "                     names = ['llamante', 'destino', 'llamado', 'fechahora', 'duracion'])\n",
    "    test.fechahora = pd.to_datetime(test.fechahora)\n",
    "    conjunto.append(test)\n",
    "    print(archivo)\n",
    "conjunto"
   ]
  },
  {
   "cell_type": "code",
   "execution_count": 10,
   "id": "3676e4a8-1142-40f6-aacc-ffec2360b049",
   "metadata": {},
   "outputs": [
    {
     "name": "stderr",
     "output_type": "stream",
     "text": [
      "Process ForkPoolWorker-19:\n",
      "Process ForkPoolWorker-14:\n",
      "Process ForkPoolWorker-4:\n",
      "Process ForkPoolWorker-13:\n"
     ]
    },
    {
     "ename": "KeyboardInterrupt",
     "evalue": "",
     "output_type": "error",
     "traceback": [
      "\u001b[0;31m---------------------------------------------------------------------------\u001b[0m",
      "\u001b[0;31mKeyboardInterrupt\u001b[0m                         Traceback (most recent call last)",
      "File \u001b[0;32m<timed exec>:22\u001b[0m, in \u001b[0;36mproceso_sal\u001b[0;34m()\u001b[0m\n",
      "File \u001b[0;32m/usr/lib/python3.11/multiprocessing/pool.py:367\u001b[0m, in \u001b[0;36mPool.map\u001b[0;34m(self, func, iterable, chunksize)\u001b[0m\n\u001b[1;32m    363\u001b[0m \u001b[38;5;250m\u001b[39m\u001b[38;5;124;03m'''\u001b[39;00m\n\u001b[1;32m    364\u001b[0m \u001b[38;5;124;03mApply `func` to each element in `iterable`, collecting the results\u001b[39;00m\n\u001b[1;32m    365\u001b[0m \u001b[38;5;124;03min a list that is returned.\u001b[39;00m\n\u001b[1;32m    366\u001b[0m \u001b[38;5;124;03m'''\u001b[39;00m\n\u001b[0;32m--> 367\u001b[0m \u001b[38;5;28;01mreturn\u001b[39;00m \u001b[38;5;28;43mself\u001b[39;49m\u001b[38;5;241;43m.\u001b[39;49m\u001b[43m_map_async\u001b[49m\u001b[43m(\u001b[49m\u001b[43mfunc\u001b[49m\u001b[43m,\u001b[49m\u001b[43m \u001b[49m\u001b[43miterable\u001b[49m\u001b[43m,\u001b[49m\u001b[43m \u001b[49m\u001b[43mmapstar\u001b[49m\u001b[43m,\u001b[49m\u001b[43m \u001b[49m\u001b[43mchunksize\u001b[49m\u001b[43m)\u001b[49m\u001b[38;5;241;43m.\u001b[39;49m\u001b[43mget\u001b[49m\u001b[43m(\u001b[49m\u001b[43m)\u001b[49m\n",
      "File \u001b[0;32m/usr/lib/python3.11/multiprocessing/pool.py:768\u001b[0m, in \u001b[0;36mApplyResult.get\u001b[0;34m(self, timeout)\u001b[0m\n\u001b[1;32m    767\u001b[0m \u001b[38;5;28;01mdef\u001b[39;00m \u001b[38;5;21mget\u001b[39m(\u001b[38;5;28mself\u001b[39m, timeout\u001b[38;5;241m=\u001b[39m\u001b[38;5;28;01mNone\u001b[39;00m):\n\u001b[0;32m--> 768\u001b[0m     \u001b[38;5;28;43mself\u001b[39;49m\u001b[38;5;241;43m.\u001b[39;49m\u001b[43mwait\u001b[49m\u001b[43m(\u001b[49m\u001b[43mtimeout\u001b[49m\u001b[43m)\u001b[49m\n\u001b[1;32m    769\u001b[0m     \u001b[38;5;28;01mif\u001b[39;00m \u001b[38;5;129;01mnot\u001b[39;00m \u001b[38;5;28mself\u001b[39m\u001b[38;5;241m.\u001b[39mready():\n",
      "File \u001b[0;32m/usr/lib/python3.11/multiprocessing/pool.py:765\u001b[0m, in \u001b[0;36mApplyResult.wait\u001b[0;34m(self, timeout)\u001b[0m\n\u001b[1;32m    764\u001b[0m \u001b[38;5;28;01mdef\u001b[39;00m \u001b[38;5;21mwait\u001b[39m(\u001b[38;5;28mself\u001b[39m, timeout\u001b[38;5;241m=\u001b[39m\u001b[38;5;28;01mNone\u001b[39;00m):\n\u001b[0;32m--> 765\u001b[0m     \u001b[38;5;28;43mself\u001b[39;49m\u001b[38;5;241;43m.\u001b[39;49m\u001b[43m_event\u001b[49m\u001b[38;5;241;43m.\u001b[39;49m\u001b[43mwait\u001b[49m\u001b[43m(\u001b[49m\u001b[43mtimeout\u001b[49m\u001b[43m)\u001b[49m\n",
      "File \u001b[0;32m/usr/lib/python3.11/threading.py:622\u001b[0m, in \u001b[0;36mEvent.wait\u001b[0;34m(self, timeout)\u001b[0m\n\u001b[1;32m    621\u001b[0m \u001b[38;5;28;01mif\u001b[39;00m \u001b[38;5;129;01mnot\u001b[39;00m signaled:\n\u001b[0;32m--> 622\u001b[0m     signaled \u001b[38;5;241m=\u001b[39m \u001b[38;5;28;43mself\u001b[39;49m\u001b[38;5;241;43m.\u001b[39;49m\u001b[43m_cond\u001b[49m\u001b[38;5;241;43m.\u001b[39;49m\u001b[43mwait\u001b[49m\u001b[43m(\u001b[49m\u001b[43mtimeout\u001b[49m\u001b[43m)\u001b[49m\n\u001b[1;32m    623\u001b[0m \u001b[38;5;28;01mreturn\u001b[39;00m signaled\n",
      "File \u001b[0;32m/usr/lib/python3.11/threading.py:320\u001b[0m, in \u001b[0;36mCondition.wait\u001b[0;34m(self, timeout)\u001b[0m\n\u001b[1;32m    319\u001b[0m \u001b[38;5;28;01mif\u001b[39;00m timeout \u001b[38;5;129;01mis\u001b[39;00m \u001b[38;5;28;01mNone\u001b[39;00m:\n\u001b[0;32m--> 320\u001b[0m     \u001b[43mwaiter\u001b[49m\u001b[38;5;241;43m.\u001b[39;49m\u001b[43macquire\u001b[49m\u001b[43m(\u001b[49m\u001b[43m)\u001b[49m\n\u001b[1;32m    321\u001b[0m     gotit \u001b[38;5;241m=\u001b[39m \u001b[38;5;28;01mTrue\u001b[39;00m\n",
      "\u001b[0;31mKeyboardInterrupt\u001b[0m: ",
      "\nDuring handling of the above exception, another exception occurred:\n",
      "\u001b[0;31mKeyboardInterrupt\u001b[0m                         Traceback (most recent call last)",
      "File \u001b[0;32m<timed exec>:27\u001b[0m\n",
      "File \u001b[0;32m<timed exec>:20\u001b[0m, in \u001b[0;36mproceso_sal\u001b[0;34m()\u001b[0m\n",
      "File \u001b[0;32m/usr/lib/python3.11/multiprocessing/pool.py:739\u001b[0m, in \u001b[0;36mPool.__exit__\u001b[0;34m(self, exc_type, exc_val, exc_tb)\u001b[0m\n\u001b[1;32m    738\u001b[0m \u001b[38;5;28;01mdef\u001b[39;00m \u001b[38;5;21m__exit__\u001b[39m(\u001b[38;5;28mself\u001b[39m, exc_type, exc_val, exc_tb):\n\u001b[0;32m--> 739\u001b[0m     \u001b[38;5;28;43mself\u001b[39;49m\u001b[38;5;241;43m.\u001b[39;49m\u001b[43mterminate\u001b[49m\u001b[43m(\u001b[49m\u001b[43m)\u001b[49m\n",
      "File \u001b[0;32m/usr/lib/python3.11/multiprocessing/pool.py:657\u001b[0m, in \u001b[0;36mPool.terminate\u001b[0;34m(self)\u001b[0m\n\u001b[1;32m    655\u001b[0m util\u001b[38;5;241m.\u001b[39mdebug(\u001b[38;5;124m'\u001b[39m\u001b[38;5;124mterminating pool\u001b[39m\u001b[38;5;124m'\u001b[39m)\n\u001b[1;32m    656\u001b[0m \u001b[38;5;28mself\u001b[39m\u001b[38;5;241m.\u001b[39m_state \u001b[38;5;241m=\u001b[39m TERMINATE\n\u001b[0;32m--> 657\u001b[0m \u001b[38;5;28;43mself\u001b[39;49m\u001b[38;5;241;43m.\u001b[39;49m\u001b[43m_terminate\u001b[49m\u001b[43m(\u001b[49m\u001b[43m)\u001b[49m\n",
      "File \u001b[0;32m/usr/lib/python3.11/multiprocessing/util.py:224\u001b[0m, in \u001b[0;36mFinalize.__call__\u001b[0;34m(self, wr, _finalizer_registry, sub_debug, getpid)\u001b[0m\n\u001b[1;32m    221\u001b[0m \u001b[38;5;28;01melse\u001b[39;00m:\n\u001b[1;32m    222\u001b[0m     sub_debug(\u001b[38;5;124m'\u001b[39m\u001b[38;5;124mfinalizer calling \u001b[39m\u001b[38;5;132;01m%s\u001b[39;00m\u001b[38;5;124m with args \u001b[39m\u001b[38;5;132;01m%s\u001b[39;00m\u001b[38;5;124m and kwargs \u001b[39m\u001b[38;5;132;01m%s\u001b[39;00m\u001b[38;5;124m'\u001b[39m,\n\u001b[1;32m    223\u001b[0m               \u001b[38;5;28mself\u001b[39m\u001b[38;5;241m.\u001b[39m_callback, \u001b[38;5;28mself\u001b[39m\u001b[38;5;241m.\u001b[39m_args, \u001b[38;5;28mself\u001b[39m\u001b[38;5;241m.\u001b[39m_kwargs)\n\u001b[0;32m--> 224\u001b[0m     res \u001b[38;5;241m=\u001b[39m \u001b[38;5;28;43mself\u001b[39;49m\u001b[38;5;241;43m.\u001b[39;49m\u001b[43m_callback\u001b[49m\u001b[43m(\u001b[49m\u001b[38;5;241;43m*\u001b[39;49m\u001b[38;5;28;43mself\u001b[39;49m\u001b[38;5;241;43m.\u001b[39;49m\u001b[43m_args\u001b[49m\u001b[43m,\u001b[49m\u001b[43m \u001b[49m\u001b[38;5;241;43m*\u001b[39;49m\u001b[38;5;241;43m*\u001b[39;49m\u001b[38;5;28;43mself\u001b[39;49m\u001b[38;5;241;43m.\u001b[39;49m\u001b[43m_kwargs\u001b[49m\u001b[43m)\u001b[49m\n\u001b[1;32m    225\u001b[0m \u001b[38;5;28mself\u001b[39m\u001b[38;5;241m.\u001b[39m_weakref \u001b[38;5;241m=\u001b[39m \u001b[38;5;28mself\u001b[39m\u001b[38;5;241m.\u001b[39m_callback \u001b[38;5;241m=\u001b[39m \u001b[38;5;28mself\u001b[39m\u001b[38;5;241m.\u001b[39m_args \u001b[38;5;241m=\u001b[39m \\\n\u001b[1;32m    226\u001b[0m                 \u001b[38;5;28mself\u001b[39m\u001b[38;5;241m.\u001b[39m_kwargs \u001b[38;5;241m=\u001b[39m \u001b[38;5;28mself\u001b[39m\u001b[38;5;241m.\u001b[39m_key \u001b[38;5;241m=\u001b[39m \u001b[38;5;28;01mNone\u001b[39;00m\n\u001b[1;32m    227\u001b[0m \u001b[38;5;28;01mreturn\u001b[39;00m res\n",
      "File \u001b[0;32m/usr/lib/python3.11/multiprocessing/pool.py:732\u001b[0m, in \u001b[0;36mPool._terminate_pool\u001b[0;34m(cls, taskqueue, inqueue, outqueue, pool, change_notifier, worker_handler, task_handler, result_handler, cache)\u001b[0m\n\u001b[1;32m    729\u001b[0m \u001b[38;5;28;01mif\u001b[39;00m p\u001b[38;5;241m.\u001b[39mis_alive():\n\u001b[1;32m    730\u001b[0m     \u001b[38;5;66;03m# worker has not yet exited\u001b[39;00m\n\u001b[1;32m    731\u001b[0m     util\u001b[38;5;241m.\u001b[39mdebug(\u001b[38;5;124m'\u001b[39m\u001b[38;5;124mcleaning up worker \u001b[39m\u001b[38;5;132;01m%d\u001b[39;00m\u001b[38;5;124m'\u001b[39m \u001b[38;5;241m%\u001b[39m p\u001b[38;5;241m.\u001b[39mpid)\n\u001b[0;32m--> 732\u001b[0m     \u001b[43mp\u001b[49m\u001b[38;5;241;43m.\u001b[39;49m\u001b[43mjoin\u001b[49m\u001b[43m(\u001b[49m\u001b[43m)\u001b[49m\n",
      "File \u001b[0;32m/usr/lib/python3.11/multiprocessing/process.py:149\u001b[0m, in \u001b[0;36mBaseProcess.join\u001b[0;34m(self, timeout)\u001b[0m\n\u001b[1;32m    147\u001b[0m \u001b[38;5;28;01massert\u001b[39;00m \u001b[38;5;28mself\u001b[39m\u001b[38;5;241m.\u001b[39m_parent_pid \u001b[38;5;241m==\u001b[39m os\u001b[38;5;241m.\u001b[39mgetpid(), \u001b[38;5;124m'\u001b[39m\u001b[38;5;124mcan only join a child process\u001b[39m\u001b[38;5;124m'\u001b[39m\n\u001b[1;32m    148\u001b[0m \u001b[38;5;28;01massert\u001b[39;00m \u001b[38;5;28mself\u001b[39m\u001b[38;5;241m.\u001b[39m_popen \u001b[38;5;129;01mis\u001b[39;00m \u001b[38;5;129;01mnot\u001b[39;00m \u001b[38;5;28;01mNone\u001b[39;00m, \u001b[38;5;124m'\u001b[39m\u001b[38;5;124mcan only join a started process\u001b[39m\u001b[38;5;124m'\u001b[39m\n\u001b[0;32m--> 149\u001b[0m res \u001b[38;5;241m=\u001b[39m \u001b[38;5;28;43mself\u001b[39;49m\u001b[38;5;241;43m.\u001b[39;49m\u001b[43m_popen\u001b[49m\u001b[38;5;241;43m.\u001b[39;49m\u001b[43mwait\u001b[49m\u001b[43m(\u001b[49m\u001b[43mtimeout\u001b[49m\u001b[43m)\u001b[49m\n\u001b[1;32m    150\u001b[0m \u001b[38;5;28;01mif\u001b[39;00m res \u001b[38;5;129;01mis\u001b[39;00m \u001b[38;5;129;01mnot\u001b[39;00m \u001b[38;5;28;01mNone\u001b[39;00m:\n\u001b[1;32m    151\u001b[0m     _children\u001b[38;5;241m.\u001b[39mdiscard(\u001b[38;5;28mself\u001b[39m)\n",
      "File \u001b[0;32m/usr/lib/python3.11/multiprocessing/popen_fork.py:43\u001b[0m, in \u001b[0;36mPopen.wait\u001b[0;34m(self, timeout)\u001b[0m\n\u001b[1;32m     41\u001b[0m             \u001b[38;5;28;01mreturn\u001b[39;00m \u001b[38;5;28;01mNone\u001b[39;00m\n\u001b[1;32m     42\u001b[0m     \u001b[38;5;66;03m# This shouldn't block if wait() returned successfully.\u001b[39;00m\n\u001b[0;32m---> 43\u001b[0m     \u001b[38;5;28;01mreturn\u001b[39;00m \u001b[38;5;28;43mself\u001b[39;49m\u001b[38;5;241;43m.\u001b[39;49m\u001b[43mpoll\u001b[49m\u001b[43m(\u001b[49m\u001b[43mos\u001b[49m\u001b[38;5;241;43m.\u001b[39;49m\u001b[43mWNOHANG\u001b[49m\u001b[43m \u001b[49m\u001b[38;5;28;43;01mif\u001b[39;49;00m\u001b[43m \u001b[49m\u001b[43mtimeout\u001b[49m\u001b[43m \u001b[49m\u001b[38;5;241;43m==\u001b[39;49m\u001b[43m \u001b[49m\u001b[38;5;241;43m0.0\u001b[39;49m\u001b[43m \u001b[49m\u001b[38;5;28;43;01melse\u001b[39;49;00m\u001b[43m \u001b[49m\u001b[38;5;241;43m0\u001b[39;49m\u001b[43m)\u001b[49m\n\u001b[1;32m     44\u001b[0m \u001b[38;5;28;01mreturn\u001b[39;00m \u001b[38;5;28mself\u001b[39m\u001b[38;5;241m.\u001b[39mreturncode\n",
      "File \u001b[0;32m/usr/lib/python3.11/multiprocessing/popen_fork.py:27\u001b[0m, in \u001b[0;36mPopen.poll\u001b[0;34m(self, flag)\u001b[0m\n\u001b[1;32m     25\u001b[0m \u001b[38;5;28;01mif\u001b[39;00m \u001b[38;5;28mself\u001b[39m\u001b[38;5;241m.\u001b[39mreturncode \u001b[38;5;129;01mis\u001b[39;00m \u001b[38;5;28;01mNone\u001b[39;00m:\n\u001b[1;32m     26\u001b[0m     \u001b[38;5;28;01mtry\u001b[39;00m:\n\u001b[0;32m---> 27\u001b[0m         pid, sts \u001b[38;5;241m=\u001b[39m os\u001b[38;5;241m.\u001b[39mwaitpid(\u001b[38;5;28mself\u001b[39m\u001b[38;5;241m.\u001b[39mpid, flag)\n\u001b[1;32m     28\u001b[0m     \u001b[38;5;28;01mexcept\u001b[39;00m \u001b[38;5;167;01mOSError\u001b[39;00m:\n\u001b[1;32m     29\u001b[0m         \u001b[38;5;66;03m# Child process not yet created. See #1731717\u001b[39;00m\n\u001b[1;32m     30\u001b[0m         \u001b[38;5;66;03m# e.errno == errno.ECHILD == 10\u001b[39;00m\n\u001b[1;32m     31\u001b[0m         \u001b[38;5;28;01mreturn\u001b[39;00m \u001b[38;5;28;01mNone\u001b[39;00m\n",
      "\u001b[0;31mKeyboardInterrupt\u001b[0m: "
     ]
    }
   ],
   "source": [
    "%%time\n",
    "# envolvemos la lectura del ods en una funcion\n",
    "def read_ods_sal(nombre, sheet):\n",
    "    # lee el achivo/hoja en un dataframe con las adecuadas conversiones\n",
    "    test = pd.read_excel(nombre, \n",
    "                     engine='odf', \n",
    "                     skiprows=11, \n",
    "                     sheet_name= sheet, \n",
    "                     header=None, \n",
    "                     usecols=[0, 1, 2, 3, 4], \n",
    "                     #dtype={0: str, 1: str, 2: str, 3: pd.to_datetime})\n",
    "                     names = ['llamante', 'destino', 'llamado', 'fechahora', 'duracion'])\n",
    "    test.fechahora = pd.to_datetime(test.fechahora)\n",
    "    return test\n",
    "\n",
    "for archivo in archivos:\n",
    "\n",
    "\n",
    "\n",
    "# Ahora hacemos un proceso multiple para leer todos los archivos\n",
    "def proceso_sal():\n",
    "    # hacemos una lista con los archivos\n",
    "    archivos = glob.glob('*.ods')\n",
    "    # Armamos un pool con 4 nucleos\n",
    "    with Pool(processes=8) as pool: \n",
    "        # hacemos que mapee la funcion a los archivos\n",
    "        df_temp = pool.map(read_ods_sal, archivos)\n",
    "        # reducimos concatenando las partes\n",
    "        salientes = pd.concat(df_temp, ignore_index=True)\n",
    "    salientes.to_pickle('./salientes01.pkl')\n",
    "\n",
    "proceso_sal()"
   ]
  },
  {
   "cell_type": "code",
   "execution_count": 5,
   "id": "7e5a45db-4323-4f37-b465-28514188669a",
   "metadata": {},
   "outputs": [
    {
     "ename": "NameError",
     "evalue": "name 'salientes' is not defined",
     "output_type": "error",
     "traceback": [
      "\u001b[0;31m---------------------------------------------------------------------------\u001b[0m",
      "\u001b[0;31mNameError\u001b[0m                                 Traceback (most recent call last)",
      "Cell \u001b[0;32mIn[5], line 1\u001b[0m\n\u001b[0;32m----> 1\u001b[0m \u001b[43msalientes\u001b[49m\u001b[38;5;241m.\u001b[39mto_pickle(\u001b[38;5;124m'\u001b[39m\u001b[38;5;124m./salientes.pkl\u001b[39m\u001b[38;5;124m'\u001b[39m)\n",
      "\u001b[0;31mNameError\u001b[0m: name 'salientes' is not defined"
     ]
    }
   ],
   "source": [
    "%%time\n",
    "# envolvemos la lectura del ods en una funcion\n",
    "def read_ods_ent(nombre):\n",
    "    # lee el achivo/hoja en un dataframe con las adecuadas conversiones\n",
    "    test = pd.read_excel(nombre, \n",
    "                     engine='odf', \n",
    "                     skiprows=11, \n",
    "                     sheet_name='Entrantes', \n",
    "                     header=None, \n",
    "                     usecols=[0, 1, 2, 3], \n",
    "                     #dtype={0: str, 1: str, 2: str, 3: pd.to_datetime})\n",
    "                     names = ['llamado', 'llamante', 'llama 'fchahora', 'duracion'])\n",
    "    test.fechahora = pd.to_datetime(test.fechahora)\n",
    "    return test\n",
    "def proceso_ent():\n",
    "    # hacemos una lista con los archivos\n",
    "    archivos = glob.glob('*.ods')\n",
    "    # Armamos un pool con 4 nucleos\n",
    "    with Pool(processes=8) as pool: \n",
    "        # hacemos que mapee la funcion a los archivos\n",
    "        df_temp = pool.map(read_ods_ent, archivos)\n",
    "        # reducimos concatenando las partes\n",
    "        entrantes = pd.concat(df_temp, ignore_index=True)\n",
    "    entrantes.to_pickle('./salientes.pkl')\n",
    "\n",
    "proceso_ent()"
   ]
  },
  {
   "cell_type": "code",
   "execution_count": null,
   "id": "6f7d7031-b9fb-4a01-bc79-7a526d48e202",
   "metadata": {},
   "outputs": [
    {
     "name": "stdout",
     "output_type": "stream",
     "text": [
      "ARCHIVO 12.ods\n",
      "ARCHVIO 32.ods\n",
      "ARCHIVO 34.ods\n",
      "ARCHIVO 23.ods\n",
      "ARCHIVO 38.ods\n",
      "ARCHIVO 8.ods\n",
      "ARCHIVO 10.ods\n",
      "ARCHIVO 16.ods\n",
      "ARCHIVO 36.ods\n",
      "ARCHIVO 11.ods\n",
      "ARCHIVO 41.ods\n",
      "ARCHIVO 39.ods\n",
      "ARCHIVO 15.ods\n",
      "ARCHIVO 7.ods\n",
      "ARCHIVO 1.ods\n",
      "ARCHIVO 5.ods\n"
     ]
    }
   ],
   "source": [
    "# Hacemos dos dataframes vacios\n",
    "salientes = pd.DataFrame()\n",
    "entrantes = pd.DataFrame()\n",
    "\n",
    "# recorremos todos los archivos en un loop\n",
    "for archivo in archivos:\n",
    "    temporal = pd.read_excel(archivo, engine='odf', skiprows=10, sheet_name='Salientes')\n",
    "    salientes = pd.concat([salientes, temporal])\n",
    "    temporal = pd.read_excel(archivo, engine='odf', skiprows=10, sheet_name='Entrantes')\n",
    "    entrantes = pd.concat([entrantes, temporal])\n",
    "    print(archivo)"
   ]
  },
  {
   "cell_type": "code",
   "execution_count": null,
   "id": "e9ae240a-77eb-4058-9d37-fd8f142613e0",
   "metadata": {
    "editable": true,
    "slideshow": {
     "slide_type": ""
    },
    "tags": []
   },
   "outputs": [],
   "source": [
    "#entrantes.to_pickle('./entrantes.pkl')\n",
    "salientes.to_pickle('./salientes.pkl')"
   ]
  }
 ],
 "metadata": {
  "kernelspec": {
   "display_name": "Python 3 (ipykernel)",
   "language": "python",
   "name": "python3"
  },
  "language_info": {
   "codemirror_mode": {
    "name": "ipython",
    "version": 3
   },
   "file_extension": ".py",
   "mimetype": "text/x-python",
   "name": "python",
   "nbconvert_exporter": "python",
   "pygments_lexer": "ipython3",
   "version": "3.11.2"
  }
 },
 "nbformat": 4,
 "nbformat_minor": 5
}
