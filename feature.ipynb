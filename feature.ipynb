{
 "cells": [
  {
   "cell_type": "markdown",
   "id": "cd7e09a9-cc88-4357-af87-ccebb4bee73b",
   "metadata": {},
   "source": [
    "Este notebook se usa para levantar los pickles que creo Gisella y eliminar los datos innecesarios y convertir las columnas a sus dtypes correctos."
   ]
  },
  {
   "cell_type": "code",
   "execution_count": 28,
   "id": "f68a8707-f50a-43b2-b397-f3a0840cd272",
   "metadata": {},
   "outputs": [],
   "source": [
    "# importamos librerias varias\n",
    "import pandas as pd\n",
    "from multiprocessing import Pool\n",
    "from pandas_ods_reader import read_ods\n",
    "import glob"
   ]
  },
  {
   "cell_type": "code",
   "execution_count": 29,
   "id": "a258340d-3ec7-4425-907a-ce57f3ada9a7",
   "metadata": {},
   "outputs": [
    {
     "name": "stdout",
     "output_type": "stream",
     "text": [
      "CPU times: user 1.16 s, sys: 350 ms, total: 1.51 s\n",
      "Wall time: 1.51 s\n"
     ]
    }
   ],
   "source": [
    "%%time\n",
    "# Cargamos desde los pickles\n",
    "salientes = pd.read_pickle('salientes.pkl')\n",
    "entrantes = pd.read_pickle('entrantes.pkl')"
   ]
  },
  {
   "cell_type": "code",
   "execution_count": 30,
   "id": "bf27c0d6-44d2-47e1-affa-0288896f8eee",
   "metadata": {},
   "outputs": [
    {
     "name": "stdout",
     "output_type": "stream",
     "text": [
      "CPU times: user 279 ms, sys: 43.5 ms, total: 323 ms\n",
      "Wall time: 320 ms\n"
     ]
    },
    {
     "data": {
      "text/plain": [
       "Nro. Llamante      int64\n",
       "Destino           object\n",
       "Nro. Llamado       int64\n",
       "fecha y hora      object\n",
       "Duracion (Seg)     int64\n",
       "dtype: object"
      ]
     },
     "execution_count": 30,
     "metadata": {},
     "output_type": "execute_result"
    }
   ],
   "source": [
    "%%time\n",
    "# Eliminamos las columnas que no se necesitan en salientes\n",
    "salientes = salientes.drop(['Id. celda', 'Descripc. Celda', 'Latitud', 'Longitud','Dir Celda'], axis=1)\n",
    "salientes.dtypes"
   ]
  },
  {
   "cell_type": "code",
   "execution_count": 31,
   "id": "48bdeef2-8f3e-41e9-ae9d-28d7d5a9aeb5",
   "metadata": {},
   "outputs": [
    {
     "name": "stdout",
     "output_type": "stream",
     "text": [
      "CPU times: user 17.6 ms, sys: 0 ns, total: 17.6 ms\n",
      "Wall time: 16.9 ms\n"
     ]
    },
    {
     "data": {
      "text/plain": [
       "Nro. Llamado       int64\n",
       "Nro. Llamante      int64\n",
       "Fecha y Hora      object\n",
       "Duracion (Seg)     int64\n",
       "dtype: object"
      ]
     },
     "execution_count": 31,
     "metadata": {},
     "output_type": "execute_result"
    }
   ],
   "source": [
    "%%time\n",
    "# Eliminamos las columnas que no se necesitan en entrantes\n",
    "entrantes = entrantes.drop(['id. Celda', 'Descripc. Celda', 'Latitud', 'Longitud', 'Dir Celda', 'IMEI', 'CAL_FEATURES'], axis=1)\n",
    "entrantes.dtypes"
   ]
  },
  {
   "cell_type": "code",
   "execution_count": 32,
   "id": "9e86b826-677a-47a9-94f1-6d3a51c40fef",
   "metadata": {},
   "outputs": [
    {
     "name": "stdout",
     "output_type": "stream",
     "text": [
      "CPU times: user 306 ms, sys: 221 ms, total: 527 ms\n",
      "Wall time: 525 ms\n"
     ]
    }
   ],
   "source": [
    "%%time\n",
    "# le cambio los nombres por unos mas comodos\n",
    "salientes = salientes.rename(columns={\"Nro. Llamado\": \"llamado\", \"Nro. Llamante\": \"llamantes\", \"Destino\": \"destino\", \"fecha y hora\": \"fecha-hora\", \"Duracion (Seg)\": \"duracion\"})"
   ]
  },
  {
   "cell_type": "code",
   "execution_count": 33,
   "id": "93f29290-9651-495a-8af6-3a28bad6ad2b",
   "metadata": {},
   "outputs": [
    {
     "name": "stdout",
     "output_type": "stream",
     "text": [
      "CPU times: user 28.8 ms, sys: 129 µs, total: 29 ms\n",
      "Wall time: 23.8 ms\n"
     ]
    }
   ],
   "source": [
    "%%time\n",
    "# le cambio los nombres por unos mas comodos\n",
    "entrantes = entrantes.rename(columns={\"Nro. Llamado\": \"llamado\", \"Nro. Llamante\": \"llamantes\", \"Fecha y Hora\": \"fecha-hora\", \"Duracion (Seg)\": \"duracion\"})"
   ]
  },
  {
   "cell_type": "code",
   "execution_count": 34,
   "id": "f1b60006-67b1-41da-85da-a1f562ab7e7f",
   "metadata": {},
   "outputs": [
    {
     "name": "stdout",
     "output_type": "stream",
     "text": [
      "CPU times: user 9.46 s, sys: 124 ms, total: 9.59 s\n",
      "Wall time: 9.56 s\n"
     ]
    }
   ],
   "source": [
    "%%time\n",
    "# pasamos la fecha de object a datetime\n",
    "salientes['fecha-hora'] = pd.to_datetime(salientes['fecha-hora'], format='%d/%m/%Y %H:%M:%S')"
   ]
  },
  {
   "cell_type": "code",
   "execution_count": 35,
   "id": "29baab99-9947-4b0f-ac6d-6e0ed02a2b64",
   "metadata": {},
   "outputs": [
    {
     "name": "stdout",
     "output_type": "stream",
     "text": [
      "CPU times: user 998 ms, sys: 3.41 ms, total: 1 s\n",
      "Wall time: 995 ms\n"
     ]
    }
   ],
   "source": [
    "%%time\n",
    "# pasamos la fecha de object a datetime\n",
    "entrantes['fecha-hora'] = pd.to_datetime(entrantes['fecha-hora'], format='%d/%m/%Y %H:%M:%S')"
   ]
  },
  {
   "cell_type": "code",
   "execution_count": 37,
   "id": "f9bda93c-c5ab-4a09-a24c-39e5316f99b2",
   "metadata": {},
   "outputs": [
    {
     "name": "stdout",
     "output_type": "stream",
     "text": [
      "CPU times: user 287 ms, sys: 11.8 ms, total: 299 ms\n",
      "Wall time: 297 ms\n"
     ]
    },
    {
     "data": {
      "text/html": [
       "<div>\n",
       "<style scoped>\n",
       "    .dataframe tbody tr th:only-of-type {\n",
       "        vertical-align: middle;\n",
       "    }\n",
       "\n",
       "    .dataframe tbody tr th {\n",
       "        vertical-align: top;\n",
       "    }\n",
       "\n",
       "    .dataframe thead th {\n",
       "        text-align: right;\n",
       "    }\n",
       "</style>\n",
       "<table border=\"1\" class=\"dataframe\">\n",
       "  <thead>\n",
       "    <tr style=\"text-align: right;\">\n",
       "      <th></th>\n",
       "      <th>llamantes</th>\n",
       "      <th>destino</th>\n",
       "      <th>llamado</th>\n",
       "      <th>fecha-hora</th>\n",
       "      <th>duracion</th>\n",
       "    </tr>\n",
       "  </thead>\n",
       "  <tbody>\n",
       "    <tr>\n",
       "      <th>79165</th>\n",
       "      <td>1137834970</td>\n",
       "      <td>Conexión Móvil</td>\n",
       "      <td>324531998</td>\n",
       "      <td>2023-09-12 12:39:54</td>\n",
       "      <td>2384</td>\n",
       "    </tr>\n",
       "  </tbody>\n",
       "</table>\n",
       "</div>"
      ],
      "text/plain": [
       "        llamantes         destino    llamado          fecha-hora  duracion\n",
       "79165  1137834970  Conexión Móvil  324531998 2023-09-12 12:39:54      2384"
      ]
     },
     "execution_count": 37,
     "metadata": {},
     "output_type": "execute_result"
    }
   ],
   "source": [
    "%%time \n",
    "# Mostramos los campos\n",
    "salientes.sample()"
   ]
  },
  {
   "cell_type": "code",
   "execution_count": 38,
   "id": "6e6790b5-c25b-40c8-8337-ff8bc935ea0a",
   "metadata": {},
   "outputs": [
    {
     "data": {
      "text/html": [
       "<div>\n",
       "<style scoped>\n",
       "    .dataframe tbody tr th:only-of-type {\n",
       "        vertical-align: middle;\n",
       "    }\n",
       "\n",
       "    .dataframe tbody tr th {\n",
       "        vertical-align: top;\n",
       "    }\n",
       "\n",
       "    .dataframe thead th {\n",
       "        text-align: right;\n",
       "    }\n",
       "</style>\n",
       "<table border=\"1\" class=\"dataframe\">\n",
       "  <thead>\n",
       "    <tr style=\"text-align: right;\">\n",
       "      <th></th>\n",
       "      <th>llamado</th>\n",
       "      <th>llamantes</th>\n",
       "      <th>fecha-hora</th>\n",
       "      <th>duracion</th>\n",
       "    </tr>\n",
       "  </thead>\n",
       "  <tbody>\n",
       "    <tr>\n",
       "      <th>1563</th>\n",
       "      <td>1140956246</td>\n",
       "      <td>1132892800</td>\n",
       "      <td>2023-09-04 10:15:09</td>\n",
       "      <td>42</td>\n",
       "    </tr>\n",
       "  </tbody>\n",
       "</table>\n",
       "</div>"
      ],
      "text/plain": [
       "         llamado   llamantes          fecha-hora  duracion\n",
       "1563  1140956246  1132892800 2023-09-04 10:15:09        42"
      ]
     },
     "execution_count": 38,
     "metadata": {},
     "output_type": "execute_result"
    }
   ],
   "source": [
    "entrantes.sample()"
   ]
  },
  {
   "cell_type": "code",
   "execution_count": 39,
   "id": "cd198b6e-590f-4c2d-b912-b1f1db881406",
   "metadata": {},
   "outputs": [
    {
     "name": "stdout",
     "output_type": "stream",
     "text": [
      "CPU times: user 243 ms, sys: 318 ms, total: 561 ms\n",
      "Wall time: 557 ms\n"
     ]
    }
   ],
   "source": [
    "%%time\n",
    "# Guardamos a pickle\n",
    "salientes.to_pickle(\"./salientes_01.pkl\")\n",
    "entrantes.to_pickle(\"./entrantes_01.pkl\")"
   ]
  },
  {
   "cell_type": "code",
   "execution_count": null,
   "id": "653d7062-480c-42c3-a9a5-dc62bb8525ca",
   "metadata": {},
   "outputs": [],
   "source": []
  }
 ],
 "metadata": {
  "kernelspec": {
   "display_name": "Python 3 (ipykernel)",
   "language": "python",
   "name": "python3"
  },
  "language_info": {
   "codemirror_mode": {
    "name": "ipython",
    "version": 3
   },
   "file_extension": ".py",
   "mimetype": "text/x-python",
   "name": "python",
   "nbconvert_exporter": "python",
   "pygments_lexer": "ipython3",
   "version": "3.10.13"
  }
 },
 "nbformat": 4,
 "nbformat_minor": 5
}
