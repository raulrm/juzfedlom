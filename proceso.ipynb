{
 "cells": [
  {
   "cell_type": "code",
   "execution_count": 1,
   "id": "9ff49e3c-9e09-43fc-b966-1cf96057d68f",
   "metadata": {},
   "outputs": [],
   "source": [
    "# importamos librerias varias\n",
    "import pandas as pd\n",
    "from multiprocessing import Pool\n",
    "from pandas_ods_reader import read_ods\n",
    "import glob"
   ]
  },
  {
   "cell_type": "code",
   "execution_count": 2,
   "id": "8f46169d-291b-442b-930f-ebbda37d0b06",
   "metadata": {},
   "outputs": [
    {
     "name": "stdout",
     "output_type": "stream",
     "text": [
      "CPU times: user 143 ms, sys: 191 ms, total: 334 ms\n",
      "Wall time: 369 ms\n"
     ]
    }
   ],
   "source": [
    "%%time\n",
    "# Cargamos desde los pickles\n",
    "salientes = pd.read_pickle('salientes_01.pkl')\n",
    "entrantes = pd.read_pickle('entrantes_01.pkl')"
   ]
  },
  {
   "cell_type": "code",
   "execution_count": 3,
   "id": "edd20d47-21d6-4b46-a0f8-d09651d250f4",
   "metadata": {},
   "outputs": [],
   "source": [
    "#salientes.sample(20)"
   ]
  },
  {
   "cell_type": "code",
   "execution_count": 4,
   "id": "8db35db5-e3af-4657-87bf-e6105834b76f",
   "metadata": {},
   "outputs": [
    {
     "data": {
      "text/plain": [
       "<bound method DataFrame.info of          llamantes          destino     llamado          fecha-hora   duracion\n",
       "0       1132658418  Tráfico incluid   320509576 2023-09-13 00:00:00      67839\n",
       "1       1167935609   Conexion Movil   263086005 2023-09-13 00:00:00  107449708\n",
       "2       1169200429  Tráfico incluid   318849629 2023-09-13 00:00:00     794136\n",
       "3       1126429480   Conexión Móvil   311835802 2023-09-13 00:00:01       2881\n",
       "4       1137834970   Conexión Móvil   219224765 2023-09-13 00:00:02       2417\n",
       "...            ...              ...         ...                 ...        ...\n",
       "168558  2204715158      LLAM. LOCAL  1151514315 2023-08-17 23:59:58          2\n",
       "168559  1122414019   Conexion Movil  2702115002 2023-08-18 00:00:00   27374385\n",
       "168560  1126314023   Conexion Movil   476812028 2023-08-18 00:00:00    7798686\n",
       "168561  1133381500  WhatsApp Gratis   286956146 2023-08-18 00:00:00        386\n",
       "168562  1162178593   Conexión Móvil   911643305 2023-08-18 00:00:00        230\n",
       "\n",
       "[6986719 rows x 5 columns]>"
      ]
     },
     "execution_count": 4,
     "metadata": {},
     "output_type": "execute_result"
    }
   ],
   "source": [
    "salientes.info"
   ]
  },
  {
   "cell_type": "code",
   "execution_count": 5,
   "id": "cd491c8a-b1a0-4ab4-bf33-70b10b939e39",
   "metadata": {},
   "outputs": [
    {
     "data": {
      "text/html": [
       "<div>\n",
       "<style scoped>\n",
       "    .dataframe tbody tr th:only-of-type {\n",
       "        vertical-align: middle;\n",
       "    }\n",
       "\n",
       "    .dataframe tbody tr th {\n",
       "        vertical-align: top;\n",
       "    }\n",
       "\n",
       "    .dataframe thead th {\n",
       "        text-align: right;\n",
       "    }\n",
       "</style>\n",
       "<table border=\"1\" class=\"dataframe\">\n",
       "  <thead>\n",
       "    <tr style=\"text-align: right;\">\n",
       "      <th></th>\n",
       "      <th>llamado</th>\n",
       "      <th>llamantes</th>\n",
       "      <th>fecha-hora</th>\n",
       "      <th>duracion</th>\n",
       "    </tr>\n",
       "  </thead>\n",
       "  <tbody>\n",
       "    <tr>\n",
       "      <th>4265</th>\n",
       "      <td>1121712197</td>\n",
       "      <td>1166183504</td>\n",
       "      <td>2023-08-25 13:34:53</td>\n",
       "      <td>50</td>\n",
       "    </tr>\n",
       "    <tr>\n",
       "      <th>306</th>\n",
       "      <td>1136264378</td>\n",
       "      <td>1126875291</td>\n",
       "      <td>2023-08-31 06:14:34</td>\n",
       "      <td>3</td>\n",
       "    </tr>\n",
       "    <tr>\n",
       "      <th>7729</th>\n",
       "      <td>1166858185</td>\n",
       "      <td>1164358522</td>\n",
       "      <td>2023-08-15 18:19:30</td>\n",
       "      <td>631</td>\n",
       "    </tr>\n",
       "    <tr>\n",
       "      <th>9507</th>\n",
       "      <td>1135037569</td>\n",
       "      <td>1124780218</td>\n",
       "      <td>2023-09-13 20:24:56</td>\n",
       "      <td>2</td>\n",
       "    </tr>\n",
       "    <tr>\n",
       "      <th>1800</th>\n",
       "      <td>1168292612</td>\n",
       "      <td>1167103626</td>\n",
       "      <td>2023-08-27 11:59:48</td>\n",
       "      <td>4</td>\n",
       "    </tr>\n",
       "    <tr>\n",
       "      <th>4256</th>\n",
       "      <td>1127300109</td>\n",
       "      <td>1161207283</td>\n",
       "      <td>2023-08-12 13:06:03</td>\n",
       "      <td>3</td>\n",
       "    </tr>\n",
       "    <tr>\n",
       "      <th>3663</th>\n",
       "      <td>1121689662</td>\n",
       "      <td>1169548918</td>\n",
       "      <td>2023-08-25 12:47:35</td>\n",
       "      <td>38</td>\n",
       "    </tr>\n",
       "    <tr>\n",
       "      <th>6710</th>\n",
       "      <td>1121580452</td>\n",
       "      <td>1136233103</td>\n",
       "      <td>2023-09-05 17:15:25</td>\n",
       "      <td>33</td>\n",
       "    </tr>\n",
       "    <tr>\n",
       "      <th>2581</th>\n",
       "      <td>1127300109</td>\n",
       "      <td>1161207283</td>\n",
       "      <td>2023-08-13 11:52:19</td>\n",
       "      <td>2</td>\n",
       "    </tr>\n",
       "    <tr>\n",
       "      <th>2456</th>\n",
       "      <td>1135224703</td>\n",
       "      <td>1125057213</td>\n",
       "      <td>2023-09-03 13:53:40</td>\n",
       "      <td>42</td>\n",
       "    </tr>\n",
       "  </tbody>\n",
       "</table>\n",
       "</div>"
      ],
      "text/plain": [
       "         llamado   llamantes          fecha-hora  duracion\n",
       "4265  1121712197  1166183504 2023-08-25 13:34:53        50\n",
       "306   1136264378  1126875291 2023-08-31 06:14:34         3\n",
       "7729  1166858185  1164358522 2023-08-15 18:19:30       631\n",
       "9507  1135037569  1124780218 2023-09-13 20:24:56         2\n",
       "1800  1168292612  1167103626 2023-08-27 11:59:48         4\n",
       "4256  1127300109  1161207283 2023-08-12 13:06:03         3\n",
       "3663  1121689662  1169548918 2023-08-25 12:47:35        38\n",
       "6710  1121580452  1136233103 2023-09-05 17:15:25        33\n",
       "2581  1127300109  1161207283 2023-08-13 11:52:19         2\n",
       "2456  1135224703  1125057213 2023-09-03 13:53:40        42"
      ]
     },
     "execution_count": 5,
     "metadata": {},
     "output_type": "execute_result"
    }
   ],
   "source": [
    "entrantes.sample(10)"
   ]
  },
  {
   "cell_type": "code",
   "execution_count": 6,
   "id": "f93de988-0051-415d-b6c8-f00615769228",
   "metadata": {},
   "outputs": [
    {
     "data": {
      "text/plain": [
       "<bound method DataFrame.info of          llamado   llamantes          fecha-hora  duracion\n",
       "0     1132919966  1125165253 2023-09-13 00:00:08        20\n",
       "1     1127338206  1130115308 2023-09-13 00:00:27        15\n",
       "2     1156432989  1144308338 2023-09-13 00:00:39      1868\n",
       "3     1160231027  1137793286 2023-09-13 00:00:53      3261\n",
       "4     1157360230  1126348825 2023-09-13 00:01:55        35\n",
       "...          ...         ...                 ...       ...\n",
       "9826  1130663833  1130808443 2023-08-17 23:54:09        18\n",
       "9827  1164866429  1165310937 2023-08-17 23:56:12         7\n",
       "9828  1166654279  1158382503 2023-08-17 23:56:36        43\n",
       "9829  1132837127  1159091388 2023-08-17 23:57:41       254\n",
       "9830  1150601346  1153471524 2023-08-17 23:58:59        38\n",
       "\n",
       "[402632 rows x 4 columns]>"
      ]
     },
     "execution_count": 6,
     "metadata": {},
     "output_type": "execute_result"
    }
   ],
   "source": [
    "entrantes.info"
   ]
  },
  {
   "cell_type": "code",
   "execution_count": 7,
   "id": "f43ee297-946a-4cc1-9c11-d54789cfc8ff",
   "metadata": {},
   "outputs": [
    {
     "data": {
      "text/plain": [
       "1151467918    79226\n",
       "1145635562    70662\n",
       "1165409227    48861\n",
       "1133294894    45722\n",
       "1121765241    42413\n",
       "              ...  \n",
       "2291501888        1\n",
       "1154181869        1\n",
       "1176115172        1\n",
       "1158764385        1\n",
       "1121804490        1\n",
       "Name: llamantes, Length: 69414, dtype: int64"
      ]
     },
     "execution_count": 7,
     "metadata": {},
     "output_type": "execute_result"
    }
   ],
   "source": [
    "# sacamos un listado de telefonos y la cantidad de cada uno\n",
    "resumen_llamantes = salientes['llamantes'].value_counts()\n",
    "resumen_llamantes"
   ]
  },
  {
   "cell_type": "code",
   "execution_count": 8,
   "id": "6b63701e-d1b1-45b9-9fe5-938912e75ece",
   "metadata": {},
   "outputs": [],
   "source": [
    "# Convertimos lo anterior a un dataframe\n",
    "# resumen_salientes = salientes.value_counts().rename_axis('telefonos').reset_index(name='llamadas')\n",
    "# resumen_salientes = salientes.value_counts().rename_axis('telefonos').to_frame('cantidad')\n",
    "# resumen_salientes\n",
    "\n",
    "value_counts = salientes['llamantes'].value_counts(dropna=True, sort=True)\n",
    "\n",
    "estadistica_salientes = pd.DataFrame(value_counts)\n",
    "estadistica_salientes_cero = estadistica_salientes.reset_index()\n",
    "estadistica_salientes_cero.columns = ['llamantes', 'cantidad'] "
   ]
  },
  {
   "cell_type": "code",
   "execution_count": 9,
   "id": "85bf8d06-f8fb-4075-8702-c953f6c4ca38",
   "metadata": {},
   "outputs": [
    {
     "data": {
      "text/html": [
       "<div>\n",
       "<style scoped>\n",
       "    .dataframe tbody tr th:only-of-type {\n",
       "        vertical-align: middle;\n",
       "    }\n",
       "\n",
       "    .dataframe tbody tr th {\n",
       "        vertical-align: top;\n",
       "    }\n",
       "\n",
       "    .dataframe thead th {\n",
       "        text-align: right;\n",
       "    }\n",
       "</style>\n",
       "<table border=\"1\" class=\"dataframe\">\n",
       "  <thead>\n",
       "    <tr style=\"text-align: right;\">\n",
       "      <th></th>\n",
       "      <th>llamantes</th>\n",
       "      <th>cantidad</th>\n",
       "    </tr>\n",
       "  </thead>\n",
       "  <tbody>\n",
       "    <tr>\n",
       "      <th>0</th>\n",
       "      <td>1151467918</td>\n",
       "      <td>79226</td>\n",
       "    </tr>\n",
       "    <tr>\n",
       "      <th>1</th>\n",
       "      <td>1145635562</td>\n",
       "      <td>70662</td>\n",
       "    </tr>\n",
       "    <tr>\n",
       "      <th>2</th>\n",
       "      <td>1165409227</td>\n",
       "      <td>48861</td>\n",
       "    </tr>\n",
       "    <tr>\n",
       "      <th>3</th>\n",
       "      <td>1133294894</td>\n",
       "      <td>45722</td>\n",
       "    </tr>\n",
       "    <tr>\n",
       "      <th>4</th>\n",
       "      <td>1121765241</td>\n",
       "      <td>42413</td>\n",
       "    </tr>\n",
       "    <tr>\n",
       "      <th>...</th>\n",
       "      <td>...</td>\n",
       "      <td>...</td>\n",
       "    </tr>\n",
       "    <tr>\n",
       "      <th>69409</th>\n",
       "      <td>2291501888</td>\n",
       "      <td>1</td>\n",
       "    </tr>\n",
       "    <tr>\n",
       "      <th>69410</th>\n",
       "      <td>1154181869</td>\n",
       "      <td>1</td>\n",
       "    </tr>\n",
       "    <tr>\n",
       "      <th>69411</th>\n",
       "      <td>1176115172</td>\n",
       "      <td>1</td>\n",
       "    </tr>\n",
       "    <tr>\n",
       "      <th>69412</th>\n",
       "      <td>1158764385</td>\n",
       "      <td>1</td>\n",
       "    </tr>\n",
       "    <tr>\n",
       "      <th>69413</th>\n",
       "      <td>1121804490</td>\n",
       "      <td>1</td>\n",
       "    </tr>\n",
       "  </tbody>\n",
       "</table>\n",
       "<p>69414 rows × 2 columns</p>\n",
       "</div>"
      ],
      "text/plain": [
       "        llamantes  cantidad\n",
       "0      1151467918     79226\n",
       "1      1145635562     70662\n",
       "2      1165409227     48861\n",
       "3      1133294894     45722\n",
       "4      1121765241     42413\n",
       "...           ...       ...\n",
       "69409  2291501888         1\n",
       "69410  1154181869         1\n",
       "69411  1176115172         1\n",
       "69412  1158764385         1\n",
       "69413  1121804490         1\n",
       "\n",
       "[69414 rows x 2 columns]"
      ]
     },
     "execution_count": 9,
     "metadata": {},
     "output_type": "execute_result"
    }
   ],
   "source": [
    "estadistica_salientes_cero"
   ]
  },
  {
   "cell_type": "code",
   "execution_count": 10,
   "id": "71d379ef-68f2-428b-8d78-bd5f6bb3cfff",
   "metadata": {},
   "outputs": [],
   "source": [
    "# Convertimos lo anterior a un dataframe\n",
    "# resumen_salientes = salientes.value_counts().rename_axis('telefonos').reset_index(name='llamadas')\n",
    "# resumen_salientes = salientes.value_counts().rename_axis('telefonos').to_frame('cantidad')\n",
    "# resumen_salientes\n",
    "\n",
    "value_counts_ent = entrantes['llamado'].value_counts(dropna=True, sort=True)\n",
    "\n",
    "estadistica_entrantes = pd.DataFrame(value_counts_ent)\n",
    "estadistica_entrantes_cero = estadistica_entrantes.reset_index()\n",
    "estadistica_entrantes_cero.columns = ['llamado', 'cantidad'] "
   ]
  },
  {
   "cell_type": "code",
   "execution_count": 11,
   "id": "cbc7a2b3-21d0-4163-a50d-d85e172ca0df",
   "metadata": {},
   "outputs": [
    {
     "data": {
      "text/html": [
       "<div>\n",
       "<style scoped>\n",
       "    .dataframe tbody tr th:only-of-type {\n",
       "        vertical-align: middle;\n",
       "    }\n",
       "\n",
       "    .dataframe tbody tr th {\n",
       "        vertical-align: top;\n",
       "    }\n",
       "\n",
       "    .dataframe thead th {\n",
       "        text-align: right;\n",
       "    }\n",
       "</style>\n",
       "<table border=\"1\" class=\"dataframe\">\n",
       "  <thead>\n",
       "    <tr style=\"text-align: right;\">\n",
       "      <th></th>\n",
       "      <th>llamado</th>\n",
       "      <th>cantidad</th>\n",
       "    </tr>\n",
       "  </thead>\n",
       "  <tbody>\n",
       "    <tr>\n",
       "      <th>0</th>\n",
       "      <td>1127300109</td>\n",
       "      <td>3856</td>\n",
       "    </tr>\n",
       "    <tr>\n",
       "      <th>1</th>\n",
       "      <td>1152507897</td>\n",
       "      <td>1746</td>\n",
       "    </tr>\n",
       "    <tr>\n",
       "      <th>2</th>\n",
       "      <td>1132909775</td>\n",
       "      <td>1072</td>\n",
       "    </tr>\n",
       "    <tr>\n",
       "      <th>3</th>\n",
       "      <td>1166378866</td>\n",
       "      <td>769</td>\n",
       "    </tr>\n",
       "    <tr>\n",
       "      <th>4</th>\n",
       "      <td>1130814571</td>\n",
       "      <td>672</td>\n",
       "    </tr>\n",
       "    <tr>\n",
       "      <th>...</th>\n",
       "      <td>...</td>\n",
       "      <td>...</td>\n",
       "    </tr>\n",
       "    <tr>\n",
       "      <th>36823</th>\n",
       "      <td>1127250709</td>\n",
       "      <td>1</td>\n",
       "    </tr>\n",
       "    <tr>\n",
       "      <th>36824</th>\n",
       "      <td>1127248141</td>\n",
       "      <td>1</td>\n",
       "    </tr>\n",
       "    <tr>\n",
       "      <th>36825</th>\n",
       "      <td>1126833439</td>\n",
       "      <td>1</td>\n",
       "    </tr>\n",
       "    <tr>\n",
       "      <th>36826</th>\n",
       "      <td>1132388306</td>\n",
       "      <td>1</td>\n",
       "    </tr>\n",
       "    <tr>\n",
       "      <th>36827</th>\n",
       "      <td>1176202089</td>\n",
       "      <td>1</td>\n",
       "    </tr>\n",
       "  </tbody>\n",
       "</table>\n",
       "<p>36828 rows × 2 columns</p>\n",
       "</div>"
      ],
      "text/plain": [
       "          llamado  cantidad\n",
       "0      1127300109      3856\n",
       "1      1152507897      1746\n",
       "2      1132909775      1072\n",
       "3      1166378866       769\n",
       "4      1130814571       672\n",
       "...           ...       ...\n",
       "36823  1127250709         1\n",
       "36824  1127248141         1\n",
       "36825  1126833439         1\n",
       "36826  1132388306         1\n",
       "36827  1176202089         1\n",
       "\n",
       "[36828 rows x 2 columns]"
      ]
     },
     "execution_count": 11,
     "metadata": {},
     "output_type": "execute_result"
    }
   ],
   "source": [
    "estadistica_entrantes_cero"
   ]
  },
  {
   "cell_type": "code",
   "execution_count": 43,
   "id": "cb3e4c0e-3da0-4ef3-8364-b5347ca9750b",
   "metadata": {},
   "outputs": [
    {
     "data": {
      "text/plain": [
       "<Axes: >"
      ]
     },
     "execution_count": 43,
     "metadata": {},
     "output_type": "execute_result"
    },
    {
     "data": {
      "image/png": "[encoded data removed]",
      "text/plain": [
       "<Figure size 640x480 with 1 Axes>"
      ]
     },
     "metadata": {},
     "output_type": "display_data"
    }
   ],
   "source": [
    "estadistica_salientes_cero.plot(y='cantidad', use_index=True)"
   ]
  },
  {
   "cell_type": "code",
   "execution_count": 41,
   "id": "6ca66bcc-b62e-4644-ba2d-03262be556d7",
   "metadata": {},
   "outputs": [
    {
     "data": {
      "text/plain": [
       "<Axes: >"
      ]
     },
     "execution_count": 41,
     "metadata": {},
     "output_type": "execute_result"
    },
    {
     "data": {
      "image/png": "[encoded data removed]",
      "text/plain": [
       "<Figure size 640x480 with 1 Axes>"
      ]
     },
     "metadata": {},
     "output_type": "display_data"
    }
   ],
   "source": [
    "estadistica_entrantes_cero.plot(y='cantidad', use_index=True)"
   ]
  },
  {
   "cell_type": "code",
   "execution_count": 12,
   "id": "e9a0f12a-7a64-4ea0-a435-abecb502f863",
   "metadata": {},
   "outputs": [
    {
     "data": {
      "text/plain": [
       "1772"
      ]
     },
     "execution_count": 12,
     "metadata": {},
     "output_type": "execute_result"
    }
   ],
   "source": [
    "estadistica_salientes_cero['cantidad'].nunique()"
   ]
  },
  {
   "cell_type": "code",
   "execution_count": 13,
   "id": "2e389e80-fea9-4700-92a2-7e1100a8d7f8",
   "metadata": {},
   "outputs": [
    {
     "data": {
      "text/plain": [
       "32680"
      ]
     },
     "execution_count": 13,
     "metadata": {},
     "output_type": "execute_result"
    }
   ],
   "source": [
    "estadistica_salientes_cero[estadistica_salientes_cero['cantidad'] <= 4 ]['llamantes'].count() "
   ]
  },
  {
   "cell_type": "code",
   "execution_count": 14,
   "id": "ba80b4f8-c151-4be4-9105-0d03a313a51e",
   "metadata": {},
   "outputs": [
    {
     "data": {
      "text/plain": [
       "18315"
      ]
     },
     "execution_count": 14,
     "metadata": {},
     "output_type": "execute_result"
    }
   ],
   "source": [
    "estadistica_entrantes_cero[estadistica_entrantes_cero['cantidad'] <= 3 ]['llamado'].count() "
   ]
  },
  {
   "cell_type": "code",
   "execution_count": 15,
   "id": "f18a74d9-fa55-454c-a0de-0afbd808c40f",
   "metadata": {},
   "outputs": [
    {
     "data": {
      "text/html": [
       "<div>\n",
       "<style scoped>\n",
       "    .dataframe tbody tr th:only-of-type {\n",
       "        vertical-align: middle;\n",
       "    }\n",
       "\n",
       "    .dataframe tbody tr th {\n",
       "        vertical-align: top;\n",
       "    }\n",
       "\n",
       "    .dataframe thead th {\n",
       "        text-align: right;\n",
       "    }\n",
       "</style>\n",
       "<table border=\"1\" class=\"dataframe\">\n",
       "  <thead>\n",
       "    <tr style=\"text-align: right;\">\n",
       "      <th></th>\n",
       "      <th>llamantes</th>\n",
       "      <th>destino</th>\n",
       "      <th>llamado</th>\n",
       "      <th>fecha-hora</th>\n",
       "      <th>duracion</th>\n",
       "    </tr>\n",
       "  </thead>\n",
       "  <tbody>\n",
       "    <tr>\n",
       "      <th>131337</th>\n",
       "      <td>1121674689</td>\n",
       "      <td>Tráfico incluid</td>\n",
       "      <td>295523623</td>\n",
       "      <td>2023-09-07 20:25:00</td>\n",
       "      <td>76</td>\n",
       "    </tr>\n",
       "    <tr>\n",
       "      <th>131338</th>\n",
       "      <td>1132489070</td>\n",
       "      <td>Conexión Móvil</td>\n",
       "      <td>440585111</td>\n",
       "      <td>2023-09-07 20:25:00</td>\n",
       "      <td>373</td>\n",
       "    </tr>\n",
       "    <tr>\n",
       "      <th>131339</th>\n",
       "      <td>1121885821</td>\n",
       "      <td>Tráfico incluid</td>\n",
       "      <td>820</td>\n",
       "      <td>2023-09-07 20:25:02</td>\n",
       "      <td>618</td>\n",
       "    </tr>\n",
       "    <tr>\n",
       "      <th>131340</th>\n",
       "      <td>1138831912</td>\n",
       "      <td>Tráfico incluid</td>\n",
       "      <td>308714838</td>\n",
       "      <td>2023-09-07 20:25:02</td>\n",
       "      <td>390</td>\n",
       "    </tr>\n",
       "    <tr>\n",
       "      <th>131341</th>\n",
       "      <td>1158789838</td>\n",
       "      <td>Conexión Móvil</td>\n",
       "      <td>944849233</td>\n",
       "      <td>2023-09-07 20:25:02</td>\n",
       "      <td>152</td>\n",
       "    </tr>\n",
       "    <tr>\n",
       "      <th>...</th>\n",
       "      <td>...</td>\n",
       "      <td>...</td>\n",
       "      <td>...</td>\n",
       "      <td>...</td>\n",
       "      <td>...</td>\n",
       "    </tr>\n",
       "    <tr>\n",
       "      <th>137225</th>\n",
       "      <td>1127280754</td>\n",
       "      <td>Tráfico incluid</td>\n",
       "      <td>210723099</td>\n",
       "      <td>2023-09-07 21:04:58</td>\n",
       "      <td>2979882</td>\n",
       "    </tr>\n",
       "    <tr>\n",
       "      <th>137226</th>\n",
       "      <td>1133439623</td>\n",
       "      <td>Tráfico incluid</td>\n",
       "      <td>290502442</td>\n",
       "      <td>2023-09-07 21:04:58</td>\n",
       "      <td>132909</td>\n",
       "    </tr>\n",
       "    <tr>\n",
       "      <th>137227</th>\n",
       "      <td>1171085653</td>\n",
       "      <td>Conexion Movil</td>\n",
       "      <td>857611030</td>\n",
       "      <td>2023-09-07 21:04:58</td>\n",
       "      <td>0</td>\n",
       "    </tr>\n",
       "    <tr>\n",
       "      <th>137228</th>\n",
       "      <td>1127280754</td>\n",
       "      <td>WhatsApp Gratis</td>\n",
       "      <td>210723098</td>\n",
       "      <td>2023-09-07 21:04:59</td>\n",
       "      <td>5132</td>\n",
       "    </tr>\n",
       "    <tr>\n",
       "      <th>137229</th>\n",
       "      <td>1162245217</td>\n",
       "      <td>Conexión Móvil</td>\n",
       "      <td>327879678</td>\n",
       "      <td>2023-09-07 21:04:59</td>\n",
       "      <td>6738</td>\n",
       "    </tr>\n",
       "  </tbody>\n",
       "</table>\n",
       "<p>5893 rows × 5 columns</p>\n",
       "</div>"
      ],
      "text/plain": [
       "         llamantes          destino    llamado          fecha-hora  duracion\n",
       "131337  1121674689  Tráfico incluid  295523623 2023-09-07 20:25:00        76\n",
       "131338  1132489070   Conexión Móvil  440585111 2023-09-07 20:25:00       373\n",
       "131339  1121885821  Tráfico incluid        820 2023-09-07 20:25:02       618\n",
       "131340  1138831912  Tráfico incluid  308714838 2023-09-07 20:25:02       390\n",
       "131341  1158789838   Conexión Móvil  944849233 2023-09-07 20:25:02       152\n",
       "...            ...              ...        ...                 ...       ...\n",
       "137225  1127280754  Tráfico incluid  210723099 2023-09-07 21:04:58   2979882\n",
       "137226  1133439623  Tráfico incluid  290502442 2023-09-07 21:04:58    132909\n",
       "137227  1171085653   Conexion Movil  857611030 2023-09-07 21:04:58         0\n",
       "137228  1127280754  WhatsApp Gratis  210723098 2023-09-07 21:04:59      5132\n",
       "137229  1162245217   Conexión Móvil  327879678 2023-09-07 21:04:59      6738\n",
       "\n",
       "[5893 rows x 5 columns]"
      ]
     },
     "execution_count": 15,
     "metadata": {},
     "output_type": "execute_result"
    }
   ],
   "source": [
    "# Filtrados en la data del hecho +- 20 minutos 07/09/2023 20;45\n",
    "fil_sal_hecho_20 = salientes.loc[(salientes['fecha-hora'] >= '2023-09-07 20:25:00')\n",
    "                     & (salientes['fecha-hora'] < '2023-09-07 21:05:00')]\n",
    "fil_sal_hecho_20"
   ]
  },
  {
   "cell_type": "code",
   "execution_count": 16,
   "id": "990d46af-0018-49ab-9be5-5b7c192ab41c",
   "metadata": {},
   "outputs": [
    {
     "data": {
      "text/html": [
       "<div>\n",
       "<style scoped>\n",
       "    .dataframe tbody tr th:only-of-type {\n",
       "        vertical-align: middle;\n",
       "    }\n",
       "\n",
       "    .dataframe tbody tr th {\n",
       "        vertical-align: top;\n",
       "    }\n",
       "\n",
       "    .dataframe thead th {\n",
       "        text-align: right;\n",
       "    }\n",
       "</style>\n",
       "<table border=\"1\" class=\"dataframe\">\n",
       "  <thead>\n",
       "    <tr style=\"text-align: right;\">\n",
       "      <th></th>\n",
       "      <th>llamado</th>\n",
       "      <th>llamantes</th>\n",
       "      <th>fecha-hora</th>\n",
       "      <th>duracion</th>\n",
       "    </tr>\n",
       "  </thead>\n",
       "  <tbody>\n",
       "    <tr>\n",
       "      <th>8936</th>\n",
       "      <td>1171128764</td>\n",
       "      <td>1136245412</td>\n",
       "      <td>2023-09-07 20:25:02</td>\n",
       "      <td>2</td>\n",
       "    </tr>\n",
       "    <tr>\n",
       "      <th>8937</th>\n",
       "      <td>1123841860</td>\n",
       "      <td>1150569808</td>\n",
       "      <td>2023-09-07 20:25:08</td>\n",
       "      <td>48</td>\n",
       "    </tr>\n",
       "    <tr>\n",
       "      <th>8938</th>\n",
       "      <td>1163249936</td>\n",
       "      <td>1169811935</td>\n",
       "      <td>2023-09-07 20:25:08</td>\n",
       "      <td>416</td>\n",
       "    </tr>\n",
       "    <tr>\n",
       "      <th>8939</th>\n",
       "      <td>1168306289</td>\n",
       "      <td>1168856025</td>\n",
       "      <td>2023-09-07 20:25:14</td>\n",
       "      <td>524</td>\n",
       "    </tr>\n",
       "    <tr>\n",
       "      <th>8940</th>\n",
       "      <td>1138556926</td>\n",
       "      <td>1144178577</td>\n",
       "      <td>2023-09-07 20:25:21</td>\n",
       "      <td>2142</td>\n",
       "    </tr>\n",
       "    <tr>\n",
       "      <th>...</th>\n",
       "      <td>...</td>\n",
       "      <td>...</td>\n",
       "      <td>...</td>\n",
       "      <td>...</td>\n",
       "    </tr>\n",
       "    <tr>\n",
       "      <th>9322</th>\n",
       "      <td>1133445321</td>\n",
       "      <td>1149407428</td>\n",
       "      <td>2023-09-07 21:03:38</td>\n",
       "      <td>239</td>\n",
       "    </tr>\n",
       "    <tr>\n",
       "      <th>9323</th>\n",
       "      <td>1138167541</td>\n",
       "      <td>1164802170</td>\n",
       "      <td>2023-09-07 21:04:01</td>\n",
       "      <td>3</td>\n",
       "    </tr>\n",
       "    <tr>\n",
       "      <th>9324</th>\n",
       "      <td>1161238219</td>\n",
       "      <td>1141716348</td>\n",
       "      <td>2023-09-07 21:04:25</td>\n",
       "      <td>2</td>\n",
       "    </tr>\n",
       "    <tr>\n",
       "      <th>9325</th>\n",
       "      <td>1155175470</td>\n",
       "      <td>1165553484</td>\n",
       "      <td>2023-09-07 21:04:33</td>\n",
       "      <td>44</td>\n",
       "    </tr>\n",
       "    <tr>\n",
       "      <th>9326</th>\n",
       "      <td>1157944881</td>\n",
       "      <td>1169057519</td>\n",
       "      <td>2023-09-07 21:04:33</td>\n",
       "      <td>243</td>\n",
       "    </tr>\n",
       "  </tbody>\n",
       "</table>\n",
       "<p>391 rows × 4 columns</p>\n",
       "</div>"
      ],
      "text/plain": [
       "         llamado   llamantes          fecha-hora  duracion\n",
       "8936  1171128764  1136245412 2023-09-07 20:25:02         2\n",
       "8937  1123841860  1150569808 2023-09-07 20:25:08        48\n",
       "8938  1163249936  1169811935 2023-09-07 20:25:08       416\n",
       "8939  1168306289  1168856025 2023-09-07 20:25:14       524\n",
       "8940  1138556926  1144178577 2023-09-07 20:25:21      2142\n",
       "...          ...         ...                 ...       ...\n",
       "9322  1133445321  1149407428 2023-09-07 21:03:38       239\n",
       "9323  1138167541  1164802170 2023-09-07 21:04:01         3\n",
       "9324  1161238219  1141716348 2023-09-07 21:04:25         2\n",
       "9325  1155175470  1165553484 2023-09-07 21:04:33        44\n",
       "9326  1157944881  1169057519 2023-09-07 21:04:33       243\n",
       "\n",
       "[391 rows x 4 columns]"
      ]
     },
     "execution_count": 16,
     "metadata": {},
     "output_type": "execute_result"
    }
   ],
   "source": [
    "# Filtrados en la data del hecho +- 20 minutos 07/09/2023 20;45\n",
    "fil_ent_hecho_20 = entrantes.loc[(entrantes['fecha-hora'] >= '2023-09-07 20:25:00')\n",
    "                     & (entrantes['fecha-hora'] < '2023-09-07 21:05:00')]\n",
    "fil_ent_hecho_20"
   ]
  },
  {
   "cell_type": "code",
   "execution_count": 17,
   "id": "e8f03aa1-8f04-4bb6-8aa7-2833ba44422e",
   "metadata": {},
   "outputs": [
    {
     "data": {
      "text/html": [
       "<div>\n",
       "<style scoped>\n",
       "    .dataframe tbody tr th:only-of-type {\n",
       "        vertical-align: middle;\n",
       "    }\n",
       "\n",
       "    .dataframe tbody tr th {\n",
       "        vertical-align: top;\n",
       "    }\n",
       "\n",
       "    .dataframe thead th {\n",
       "        text-align: right;\n",
       "    }\n",
       "</style>\n",
       "<table border=\"1\" class=\"dataframe\">\n",
       "  <thead>\n",
       "    <tr style=\"text-align: right;\">\n",
       "      <th></th>\n",
       "      <th>llamantes</th>\n",
       "      <th>destino</th>\n",
       "      <th>llamado</th>\n",
       "      <th>fecha-hora</th>\n",
       "      <th>duracion</th>\n",
       "    </tr>\n",
       "  </thead>\n",
       "  <tbody>\n",
       "    <tr>\n",
       "      <th>133628</th>\n",
       "      <td>1132489070</td>\n",
       "      <td>Conexión Móvil</td>\n",
       "      <td>440595889</td>\n",
       "      <td>2023-09-07 20:40:00</td>\n",
       "      <td>41048</td>\n",
       "    </tr>\n",
       "    <tr>\n",
       "      <th>133629</th>\n",
       "      <td>1158786972</td>\n",
       "      <td>Conexión Móvil</td>\n",
       "      <td>944870711</td>\n",
       "      <td>2023-09-07 20:40:00</td>\n",
       "      <td>152</td>\n",
       "    </tr>\n",
       "    <tr>\n",
       "      <th>133630</th>\n",
       "      <td>1157437256</td>\n",
       "      <td>Conexión Móvil</td>\n",
       "      <td>440631879</td>\n",
       "      <td>2023-09-07 20:40:01</td>\n",
       "      <td>995</td>\n",
       "    </tr>\n",
       "    <tr>\n",
       "      <th>133631</th>\n",
       "      <td>1170451454</td>\n",
       "      <td>TRAFICO DATOS</td>\n",
       "      <td>288162957</td>\n",
       "      <td>2023-09-07 20:40:01</td>\n",
       "      <td>25462</td>\n",
       "    </tr>\n",
       "    <tr>\n",
       "      <th>133632</th>\n",
       "      <td>2204032111</td>\n",
       "      <td>Conexion Movil</td>\n",
       "      <td>6598025</td>\n",
       "      <td>2023-09-07 20:40:01</td>\n",
       "      <td>726992</td>\n",
       "    </tr>\n",
       "    <tr>\n",
       "      <th>...</th>\n",
       "      <td>...</td>\n",
       "      <td>...</td>\n",
       "      <td>...</td>\n",
       "      <td>...</td>\n",
       "      <td>...</td>\n",
       "    </tr>\n",
       "    <tr>\n",
       "      <th>135097</th>\n",
       "      <td>1137572120</td>\n",
       "      <td>Tráfico incluid</td>\n",
       "      <td>319440355</td>\n",
       "      <td>2023-09-07 20:49:59</td>\n",
       "      <td>11784</td>\n",
       "    </tr>\n",
       "    <tr>\n",
       "      <th>135098</th>\n",
       "      <td>1150108548</td>\n",
       "      <td>LLAM. LOCAL</td>\n",
       "      <td>1135616364</td>\n",
       "      <td>2023-09-07 20:49:59</td>\n",
       "      <td>124</td>\n",
       "    </tr>\n",
       "    <tr>\n",
       "      <th>135099</th>\n",
       "      <td>1170451454</td>\n",
       "      <td>Tráfico incluid</td>\n",
       "      <td>288175242</td>\n",
       "      <td>2023-09-07 20:49:59</td>\n",
       "      <td>1039</td>\n",
       "    </tr>\n",
       "    <tr>\n",
       "      <th>135100</th>\n",
       "      <td>1170451454</td>\n",
       "      <td>TRAFICO DATOS</td>\n",
       "      <td>288175243</td>\n",
       "      <td>2023-09-07 20:49:59</td>\n",
       "      <td>637</td>\n",
       "    </tr>\n",
       "    <tr>\n",
       "      <th>135101</th>\n",
       "      <td>2205001229</td>\n",
       "      <td>Tráfico incluid</td>\n",
       "      <td>292325567</td>\n",
       "      <td>2023-09-07 20:49:59</td>\n",
       "      <td>56656</td>\n",
       "    </tr>\n",
       "  </tbody>\n",
       "</table>\n",
       "<p>1474 rows × 5 columns</p>\n",
       "</div>"
      ],
      "text/plain": [
       "         llamantes          destino     llamado          fecha-hora  duracion\n",
       "133628  1132489070   Conexión Móvil   440595889 2023-09-07 20:40:00     41048\n",
       "133629  1158786972   Conexión Móvil   944870711 2023-09-07 20:40:00       152\n",
       "133630  1157437256   Conexión Móvil   440631879 2023-09-07 20:40:01       995\n",
       "133631  1170451454   TRAFICO DATOS    288162957 2023-09-07 20:40:01     25462\n",
       "133632  2204032111   Conexion Movil     6598025 2023-09-07 20:40:01    726992\n",
       "...            ...              ...         ...                 ...       ...\n",
       "135097  1137572120  Tráfico incluid   319440355 2023-09-07 20:49:59     11784\n",
       "135098  1150108548      LLAM. LOCAL  1135616364 2023-09-07 20:49:59       124\n",
       "135099  1170451454  Tráfico incluid   288175242 2023-09-07 20:49:59      1039\n",
       "135100  1170451454   TRAFICO DATOS    288175243 2023-09-07 20:49:59       637\n",
       "135101  2205001229  Tráfico incluid   292325567 2023-09-07 20:49:59     56656\n",
       "\n",
       "[1474 rows x 5 columns]"
      ]
     },
     "execution_count": 17,
     "metadata": {},
     "output_type": "execute_result"
    }
   ],
   "source": [
    "# Filtrados en la data del hecho +- 5 minutos 07/09/2023 20;45\n",
    "fil_sal_hecho_05 = salientes.loc[(salientes['fecha-hora'] >= '2023-09-07 20:40:00')\n",
    "                     & (salientes['fecha-hora'] < '2023-09-07 20:50:00')]\n",
    "fil_sal_hecho_05"
   ]
  },
  {
   "cell_type": "code",
   "execution_count": 18,
   "id": "df1c59ca-6447-4325-aebc-2e28016f8d83",
   "metadata": {},
   "outputs": [
    {
     "data": {
      "text/html": [
       "<div>\n",
       "<style scoped>\n",
       "    .dataframe tbody tr th:only-of-type {\n",
       "        vertical-align: middle;\n",
       "    }\n",
       "\n",
       "    .dataframe tbody tr th {\n",
       "        vertical-align: top;\n",
       "    }\n",
       "\n",
       "    .dataframe thead th {\n",
       "        text-align: right;\n",
       "    }\n",
       "</style>\n",
       "<table border=\"1\" class=\"dataframe\">\n",
       "  <thead>\n",
       "    <tr style=\"text-align: right;\">\n",
       "      <th></th>\n",
       "      <th>llamado</th>\n",
       "      <th>llamantes</th>\n",
       "      <th>fecha-hora</th>\n",
       "      <th>duracion</th>\n",
       "    </tr>\n",
       "  </thead>\n",
       "  <tbody>\n",
       "    <tr>\n",
       "      <th>9091</th>\n",
       "      <td>1162951497</td>\n",
       "      <td>1128981431</td>\n",
       "      <td>2023-09-07 20:40:01</td>\n",
       "      <td>19</td>\n",
       "    </tr>\n",
       "    <tr>\n",
       "      <th>9092</th>\n",
       "      <td>1157335608</td>\n",
       "      <td>1154857242</td>\n",
       "      <td>2023-09-07 20:40:16</td>\n",
       "      <td>3</td>\n",
       "    </tr>\n",
       "    <tr>\n",
       "      <th>9093</th>\n",
       "      <td>1161807060</td>\n",
       "      <td>1171017234</td>\n",
       "      <td>2023-09-07 20:40:19</td>\n",
       "      <td>3</td>\n",
       "    </tr>\n",
       "    <tr>\n",
       "      <th>9094</th>\n",
       "      <td>1166668168</td>\n",
       "      <td>1128503225</td>\n",
       "      <td>2023-09-07 20:40:19</td>\n",
       "      <td>3</td>\n",
       "    </tr>\n",
       "    <tr>\n",
       "      <th>9095</th>\n",
       "      <td>1168292614</td>\n",
       "      <td>1157211754</td>\n",
       "      <td>2023-09-07 20:40:21</td>\n",
       "      <td>36</td>\n",
       "    </tr>\n",
       "    <tr>\n",
       "      <th>...</th>\n",
       "      <td>...</td>\n",
       "      <td>...</td>\n",
       "      <td>...</td>\n",
       "      <td>...</td>\n",
       "    </tr>\n",
       "    <tr>\n",
       "      <th>9198</th>\n",
       "      <td>1176101685</td>\n",
       "      <td>1128380177</td>\n",
       "      <td>2023-09-07 20:49:41</td>\n",
       "      <td>50</td>\n",
       "    </tr>\n",
       "    <tr>\n",
       "      <th>9199</th>\n",
       "      <td>1162137741</td>\n",
       "      <td>1138152009</td>\n",
       "      <td>2023-09-07 20:49:43</td>\n",
       "      <td>227</td>\n",
       "    </tr>\n",
       "    <tr>\n",
       "      <th>9200</th>\n",
       "      <td>1157662720</td>\n",
       "      <td>1161190634</td>\n",
       "      <td>2023-09-07 20:49:44</td>\n",
       "      <td>164</td>\n",
       "    </tr>\n",
       "    <tr>\n",
       "      <th>9201</th>\n",
       "      <td>1130677271</td>\n",
       "      <td>1150186617</td>\n",
       "      <td>2023-09-07 20:49:52</td>\n",
       "      <td>3</td>\n",
       "    </tr>\n",
       "    <tr>\n",
       "      <th>9202</th>\n",
       "      <td>1126468994</td>\n",
       "      <td>1176148764</td>\n",
       "      <td>2023-09-07 20:49:55</td>\n",
       "      <td>96</td>\n",
       "    </tr>\n",
       "  </tbody>\n",
       "</table>\n",
       "<p>112 rows × 4 columns</p>\n",
       "</div>"
      ],
      "text/plain": [
       "         llamado   llamantes          fecha-hora  duracion\n",
       "9091  1162951497  1128981431 2023-09-07 20:40:01        19\n",
       "9092  1157335608  1154857242 2023-09-07 20:40:16         3\n",
       "9093  1161807060  1171017234 2023-09-07 20:40:19         3\n",
       "9094  1166668168  1128503225 2023-09-07 20:40:19         3\n",
       "9095  1168292614  1157211754 2023-09-07 20:40:21        36\n",
       "...          ...         ...                 ...       ...\n",
       "9198  1176101685  1128380177 2023-09-07 20:49:41        50\n",
       "9199  1162137741  1138152009 2023-09-07 20:49:43       227\n",
       "9200  1157662720  1161190634 2023-09-07 20:49:44       164\n",
       "9201  1130677271  1150186617 2023-09-07 20:49:52         3\n",
       "9202  1126468994  1176148764 2023-09-07 20:49:55        96\n",
       "\n",
       "[112 rows x 4 columns]"
      ]
     },
     "execution_count": 18,
     "metadata": {},
     "output_type": "execute_result"
    }
   ],
   "source": [
    "# Filtrados en la data del hecho +- 5 minutos 07/09/2023 20;45\n",
    "fil_ent_hecho_05 = entrantes.loc[(entrantes['fecha-hora'] >= '2023-09-07 20:40:00')\n",
    "                     & (entrantes['fecha-hora'] < '2023-09-07 20:50:00')]\n",
    "fil_ent_hecho_05"
   ]
  },
  {
   "cell_type": "code",
   "execution_count": 19,
   "id": "a56daaba-c8a9-431a-a3d9-3ec1f1450c57",
   "metadata": {},
   "outputs": [
    {
     "data": {
      "text/plain": [
       "69414"
      ]
     },
     "execution_count": 19,
     "metadata": {},
     "output_type": "execute_result"
    }
   ],
   "source": [
    "# Contamos la cantidad de numeros de telefonos unicos\n",
    "salientes['llamantes'].nunique()"
   ]
  },
  {
   "cell_type": "code",
   "execution_count": 20,
   "id": "b0d43e39-d9f0-45e9-9ea2-8a921ba34934",
   "metadata": {},
   "outputs": [
    {
     "data": {
      "text/html": [
       "<div>\n",
       "<style scoped>\n",
       "    .dataframe tbody tr th:only-of-type {\n",
       "        vertical-align: middle;\n",
       "    }\n",
       "\n",
       "    .dataframe tbody tr th {\n",
       "        vertical-align: top;\n",
       "    }\n",
       "\n",
       "    .dataframe thead th {\n",
       "        text-align: right;\n",
       "    }\n",
       "</style>\n",
       "<table border=\"1\" class=\"dataframe\">\n",
       "  <thead>\n",
       "    <tr style=\"text-align: right;\">\n",
       "      <th></th>\n",
       "      <th>llamantes</th>\n",
       "      <th>llamado</th>\n",
       "      <th>duracion</th>\n",
       "    </tr>\n",
       "  </thead>\n",
       "  <tbody>\n",
       "    <tr>\n",
       "      <th>count</th>\n",
       "      <td>6.986719e+06</td>\n",
       "      <td>6.986719e+06</td>\n",
       "      <td>6.986719e+06</td>\n",
       "    </tr>\n",
       "    <tr>\n",
       "      <th>mean</th>\n",
       "      <td>1.204228e+09</td>\n",
       "      <td>4.400622e+10</td>\n",
       "      <td>1.127213e+07</td>\n",
       "    </tr>\n",
       "    <tr>\n",
       "      <th>std</th>\n",
       "      <td>3.167989e+08</td>\n",
       "      <td>6.239795e+13</td>\n",
       "      <td>1.079167e+08</td>\n",
       "    </tr>\n",
       "    <tr>\n",
       "      <th>min</th>\n",
       "      <td>1.120120e+09</td>\n",
       "      <td>1.000000e+00</td>\n",
       "      <td>0.000000e+00</td>\n",
       "    </tr>\n",
       "    <tr>\n",
       "      <th>25%</th>\n",
       "      <td>1.132265e+09</td>\n",
       "      <td>2.539629e+08</td>\n",
       "      <td>4.400000e+02</td>\n",
       "    </tr>\n",
       "    <tr>\n",
       "      <th>50%</th>\n",
       "      <td>1.151468e+09</td>\n",
       "      <td>2.997480e+08</td>\n",
       "      <td>2.107000e+03</td>\n",
       "    </tr>\n",
       "    <tr>\n",
       "      <th>75%</th>\n",
       "      <td>1.162340e+09</td>\n",
       "      <td>8.297394e+08</td>\n",
       "      <td>2.684500e+04</td>\n",
       "    </tr>\n",
       "    <tr>\n",
       "      <th>max</th>\n",
       "      <td>4.910007e+09</td>\n",
       "      <td>1.153214e+17</td>\n",
       "      <td>1.073747e+10</td>\n",
       "    </tr>\n",
       "  </tbody>\n",
       "</table>\n",
       "</div>"
      ],
      "text/plain": [
       "          llamantes       llamado      duracion\n",
       "count  6.986719e+06  6.986719e+06  6.986719e+06\n",
       "mean   1.204228e+09  4.400622e+10  1.127213e+07\n",
       "std    3.167989e+08  6.239795e+13  1.079167e+08\n",
       "min    1.120120e+09  1.000000e+00  0.000000e+00\n",
       "25%    1.132265e+09  2.539629e+08  4.400000e+02\n",
       "50%    1.151468e+09  2.997480e+08  2.107000e+03\n",
       "75%    1.162340e+09  8.297394e+08  2.684500e+04\n",
       "max    4.910007e+09  1.153214e+17  1.073747e+10"
      ]
     },
     "execution_count": 20,
     "metadata": {},
     "output_type": "execute_result"
    }
   ],
   "source": [
    "salientes.describe()"
   ]
  },
  {
   "cell_type": "code",
   "execution_count": 21,
   "id": "b04f1679-3d1b-4c3c-8f8e-fa2586cda542",
   "metadata": {},
   "outputs": [
    {
     "name": "stdout",
     "output_type": "stream",
     "text": [
      "2023-09-14 00:00:00\n"
     ]
    }
   ],
   "source": [
    "print(max(salientes['fecha-hora']))"
   ]
  },
  {
   "cell_type": "code",
   "execution_count": 22,
   "id": "d1b78e20-2b1a-43ac-95cf-850e1b7dbc0e",
   "metadata": {},
   "outputs": [
    {
     "name": "stdout",
     "output_type": "stream",
     "text": [
      "2023-08-07 00:00:01\n"
     ]
    }
   ],
   "source": [
    "print(min(salientes['fecha-hora']))"
   ]
  },
  {
   "cell_type": "code",
   "execution_count": 23,
   "id": "015fd329-3a21-4b0b-8aa5-84f092d2a6fe",
   "metadata": {},
   "outputs": [
    {
     "name": "stdout",
     "output_type": "stream",
     "text": [
      "['Tráfico incluid' 'Conexion Movil' 'Conexión Móvil' 'WhatsApp Gratis'\n",
      " 'TRAFICO DATOS ' 'LLAM. LOCAL' 'LLAM.LOC.MOV.' 'SERV.CLIENTE' 'ASIST.RET'\n",
      " 'ADELIA MARIA' 'LLAM. 0810' 'BUENOS AIRES' '500 KB Internet' 'ROSARIO'\n",
      " 'ROA volteABREV' '*555' 'COMODORO RIVADA' 'LLAM.LOCAL' 'TRAFICO DATOS'\n",
      " 'GM APN2 GM Exced' 'PERGAMINO' 'SAN JOSE FELICI' 'LLAM. 0800'\n",
      " 'VILLA GESELL' 'Llamada Recib' 'JUAN MARIA GUTI' 'VICTORIA'\n",
      " 'LLAM.LOC.MOV' 'CORDOBA' 'PUERTO RICO' 'GENERAL MADARIA' 'CAMPANA'\n",
      " 'ANSES' 'CATAMARCA' 'VILLA DOLORES' 'SALTO' 'CONCEPCION TUC.'\n",
      " 'CORRIENTES' 'SAN NICOLAS' 'FRIAS' 'GM APN2 INFOT Conf' 'MAR DE AJO'\n",
      " 'POSADAS' 'FORMOSA' 'PUERTO IGUAZU' 'ELDORADO' 'ALCARAZ' 'SANTA FE'\n",
      " 'MAR DEL PLATA' 'GENERAL VILLEGA' 'S MIGUEL DE TUC' 'CHIVILCOY'\n",
      " 'LA PLATA' 'GUALEGUAY' 'ROQUE SAENZ PEÑ' 'GOYA' 'ORAN' 'SAN JUAN'\n",
      " 'LINCOLN' 'SAN ANDRES DE G' 'MENDOZA' 'SANTO TOME' 'OBERA' 'ZARATE'\n",
      " 'GM APN2 GM Conf' 'SUNCHO CORRAL' 'LA RIOJA' 'SAN PEDRO JUJUY' 'LA FALDA'\n",
      " 'VENADO TUERTO' '*Numeros Amigos' 'LOBOS' 'EMERGENCIAS' 'GOBERNADOR CRES'\n",
      " 'ESCOBAR' '9 DE JULIO' 'SAN MARTÍN' 'ALTA GRACIA' 'CHARATA'\n",
      " 'SCARLOS DE BARI' 'PINAMAR' '25 DE MAYO BS A' 'CAA CATI' 'CURUZU CUATIA'\n",
      " 'LAS TOSCAS' 'SANTA ROSA' 'LOPEZ CAMELO' 'COLON BS AS' 'SANTA MARIA'\n",
      " 'SAN LUIS' '*444' 'Corporativo' 'RAFAEL OBLIGADO' 'URUGUAY_CLARO'\n",
      " 'OLAVARRIA' 'AÑATUYA' 'CHILECITO' 'LA PAZ E. RIOS' 'SAN FRANCISCO'\n",
      " 'LAS LAJITAS' 'PARANA' 'CAÑUELAS' 'BOLIVAR' 'S SALVADOR DE J'\n",
      " 'CAPILLA DEL SEÑ' 'RESISTENCIA' 'MONTE CASEROS' 'PUERTO MADRYN' 'NEUQUEN'\n",
      " 'TANDIL' 'ROSARIO DEL TAL' 'CRUZ DEL EJE' 'VILLA MARIA' 'MERCEDES BS AS'\n",
      " 'MERCEDES S.LUIS' 'TRES ARROYOS' '*Atencion al Cl' '28 DE NOVIEMBRE'\n",
      " 'Atencion ciudad' 'SAN ANTONIO DE ' 'JUNIN BS AS' 'PARAGUAY_M'\n",
      " 'JOSE C. PAZ' 'LA CARLOTA' 'TARTAGAL' 'CHAJARI' 'BAHIA BLANCA' 'ALCORTA'\n",
      " 'CORONEL MOLDES ' 'PARAGUAY_CLARO' 'MEXICO' 'ARGUELLO' 'VILLA CARLOS PA'\n",
      " 'LAS FLORES BS A' 'AMBA' 'BARRANCAS' 'SALTA' 'GLEW' 'RIO GALLEGOS'\n",
      " 'S.M.DE TUCUMAN' 'USHUAIA' 'SAN PEDRO BS AS' 'SUMAMPA' 'METAN'\n",
      " 'PASO DE LOS LIB' 'LA QUIACA' 'AZUL' 'CHASCOMUS' 'GUALEGUAYCHU'\n",
      " 'RECONQUISTA' 'LIB. GRAL SAN M' 'TERMAS DE RIO H' 'TRENQUE LAUQUEN'\n",
      " 'CORONEL DORREGO' 'CLORINDA' 'MONTEROS' 'SAN JORGE' 'CHAMICAL'\n",
      " 'GRAL J DE SAN M' 'APOSTOLES' 'QUIMILI' 'SAN LORENZO' 'ESQUEL'\n",
      " 'GENERAL ALVEAR.' 'ANDALGALA' 'MONTE QUEMADO' 'ALEMANIA'\n",
      " 'GM APN2 FOTA Conf' 'SALADAS' 'PQUE INDUST. PI' 'NOGOYA' 'BRAGADO'\n",
      " 'MERCEDES CTES.' 'GENERAL ROCA' 'S CLEMENTE DEL ' 'CONCEP DEL URUG'\n",
      " 'BALCARCE' 'CASTELLI' 'FEDERAL' 'SAN JAVIER STA ' 'RIO TERCERO'\n",
      " 'VILLA ANGELA' 'RAFAELA' 'SEDRONAR' 'PEHUAJO' 'GENERAL PICO' 'EL TREBOL'\n",
      " 'TELEMARKETIN' 'CARLOS CASARES' 'CHACABUCO' 'SANTA TERESITA' 'ROJAS'\n",
      " 'RIO GRANDE' 'TUNUYAN' 'NECOCHEA' 'VILLA SAN MARTI' 'con mensaje'\n",
      " 'ARROYITO' 'ZAPALA' 'SAN AGUSTIN DEL' 'Servicio al Cli' 'COBRANZAS'\n",
      " 'SAN RAFAEL' 'BANDERA' 'ARRECIFES' 'RUFINO' 'A.NACIONAL' 'BELL VILLE'\n",
      " 'SAN FCO DEL CHA' 'RAMALLO' 'ITUZAINGO' 'PONTEVEDRA' 'LEZAMA' '*88888'\n",
      " 'PUNTA ALTA' 'CORONEL BRANDSE' 'MORTEROS' 'CONS.SALDO' '*PAGO' 'NAVARRO'\n",
      " 'MERLO' 'VILLAGUAY' '*147' 'CERES' 'Atrib.Llam.Ent' 'GENERAL ALVEAR '\n",
      " 'MARCOS JUAREZ' 'Emergencias de ' 'SAN MARTIN MZA.' 'VERA'\n",
      " 'SANTIAGO DEL ES' 'ROBO HURTO EXTR' 'SAN JAVIER MISI' 'EDUARDO CASTEX'\n",
      " '*130' 'ITALIA_F' 'MONTE' 'CAMPO SANTO' 'RIO SEGUNDO' '*3000' 'CAFAYATE'\n",
      " 'PERU_F' 'CARMEN DE ARECO' 'BOLIVIA_F' 'MERLO S.LUIS' 'GENERAL BELGRAN'\n",
      " 'Conexión Móvil Bypass' '0800-123-2513' 'DEAN FUNES' 'BERNARDO DE IRI'\n",
      " 'E.E.U.U._F' 'CAMPO GALLO' 'CAÑADA DE GOMEZ' 'URUGUAY_M' 'C.BRANDEN'\n",
      " 'LIBERTAD' 'HUMAHUACA' 'BOLIVIA_M' 'Aten.Cliente' 'GENERAL ACHA'\n",
      " 'CHILE_F' 'Atencion a Clie' 'VILLA CONSTITUC' 'GENERAL PINTO'\n",
      " 'LAS FLORES' 'LOS TOLDOS BS A' 'TAFI DEL VALLE' 'SENEGAL' 'Claro BAF'\n",
      " 'VIEDMA' 'CASILDA' '*Consulta saldo' 'HORA OFICIAL' 'CANALS'\n",
      " 'CORONEL SUAREZ' 'COLON E. RIOS' 'S.M. TUCUMAN' '*55255'\n",
      " 'CORRAL DE BUSTO' 'MEX_SURE' 'Chicos perdidos' 'SAN JOSE' 'Ventas MV'\n",
      " 'AIMOGASTA' 'ARGENTINA' 'MACHAGAI' 'LAS VARILLAS' 'JESUS MARIA' 'OLIVA'\n",
      " 'PARAGUAY_F' 'RIO CUARTO' 'NICARAGUA' '*GOL' 'S. ROSA CALAMUC'\n",
      " 'ESPERANZA' 'INF. GUIA' 'LABOULAYE' 'SAN MARTIN' 'PQUEINDUST.PILA'\n",
      " 'CHILE_M' 'COLOMBIA_F' 'PIGÜE' 'SUECIA' 'GRAL BELGRANO' 'REINO UNIDO'\n",
      " 'SUIZA' 'V DEL ROSARIO C' 'CNTE N. OTAMEND' 'DEFAULT PREFIX'\n",
      " 'GENERAL MOSCONI' 'MAGDALENA' 'Ventas SUR CC' 'CANDELARIA' 'MORENO'\n",
      " 'PLOMMER' 'COLON (PROV.  E' 'ARROYO SECO' 'CITILAN' 'RECREO CATAM.'\n",
      " 'GALVEZ' 'Atención Ciudad' 'Canales Corpo' 'ESPANA_M' 'SUNCHALES'\n",
      " 'SAN VICENTE BS ' 'LA TOMA' 'HUINCA RENANCO' 'URUGUAY_F' 'CTE.FONTANA'\n",
      " 'HORA' 'MAIPU BS AS' 'Servicio de Amb' 'COVID-19']\n"
     ]
    }
   ],
   "source": [
    "print(salientes['destino'].unique())"
   ]
  },
  {
   "cell_type": "code",
   "execution_count": 30,
   "id": "a3145e64-a426-47e2-ae88-6f428c9c54b0",
   "metadata": {},
   "outputs": [
    {
     "data": {
      "text/plain": [
       "333"
      ]
     },
     "execution_count": 30,
     "metadata": {},
     "output_type": "execute_result"
    }
   ],
   "source": [
    "# Numero de destinos unicos\n",
    "salientes['destino'].nunique()"
   ]
  },
  {
   "cell_type": "markdown",
   "id": "bfe12ce7-8dde-4f5e-baad-274c78715235",
   "metadata": {},
   "source": [
    "En estadistica_entrantes_cero y estadistica_salientes_cero tengo los numeros y cuantos llamados hicieron/recibieron.  \n",
    "Dacamos listas de numeros que tienen 2 o menos llamadas"
   ]
  },
  {
   "cell_type": "code",
   "execution_count": 24,
   "id": "38d75bf5-cdac-446c-b1d9-820b2481f18f",
   "metadata": {},
   "outputs": [
    {
     "name": "stdout",
     "output_type": "stream",
     "text": [
      "        llamantes  cantidad\n",
      "44039  1176145752         2\n",
      "44040  1121741664         2\n",
      "44041  1171354785         2\n",
      "44042  1132626732         2\n",
      "44043  2216258192         2\n",
      "...           ...       ...\n",
      "69409  2291501888         1\n",
      "69410  1154181869         1\n",
      "69411  1176115172         1\n",
      "69412  1158764385         1\n",
      "69413  1121804490         1\n",
      "\n",
      "[25375 rows x 2 columns]\n",
      "25375\n",
      "         llamantes         destino     llamado          fecha-hora    duracion\n",
      "293     1133078828  Conexion Movil   388515017 2023-09-13 00:01:59   630609082\n",
      "360     1167175196  Conexion Movil   419412002 2023-09-13 00:02:25    16735380\n",
      "463     1139073245  Conexion Movil     4769023 2023-09-13 00:03:33  1280277205\n",
      "1284    1171094220  Conexion Movil  1789312018 2023-09-13 00:11:40    36227895\n",
      "1377    1133597670  Conexion Movil  2412913006 2023-09-13 00:12:30    16821831\n",
      "...            ...             ...         ...                 ...         ...\n",
      "165947  1163025306     LLAM. LOCAL  1132515916 2023-08-17 23:32:57          36\n",
      "167430  1130996333  Conexion Movil  1908710005 2023-08-17 23:47:32      329078\n",
      "167587  1126903295  Conexion Movil    76098024 2023-08-17 23:49:10    48895474\n",
      "168067  1121804490  Conexion Movil   112012020 2023-08-17 23:54:15  1021499433\n",
      "168548  1126777767  Conexion Movil  2228913029 2023-08-17 23:59:54     1095270\n",
      "\n",
      "[33771 rows x 5 columns]\n",
      "         llamantes          destino     llamado          fecha-hora   duracion\n",
      "131583  1122747186      LLAM. LOCAL  1156095002 2023-09-07 20:26:33         15\n",
      "131793  1168441770      LLAM. LOCAL  1155812801 2023-09-07 20:27:50         25\n",
      "131977  1122363386   Conexion Movil   158759006 2023-09-07 20:29:03  336698679\n",
      "132012  1168310005   Conexion Movil   841310004 2023-09-07 20:29:14      10996\n",
      "132439  1134883024   Conexion Movil  2836713025 2023-09-07 20:32:01   26558134\n",
      "132518  1127975952   Conexion Movil  1309311007 2023-09-07 20:32:34   42925688\n",
      "134003  1131804484  Tráfico incluid   348303885 2023-09-07 20:42:05    2130848\n",
      "134023  1131804484   TRAFICO DATOS    348303886 2023-09-07 20:42:14       3997\n",
      "134281  1138863797   Conexion Movil  1964713016 2023-09-07 20:44:12   14236203\n",
      "134966  1157345937        ASIST.RET        2747 2023-09-07 20:49:02         24\n",
      "135163  1137848153   Conexion Movil  2216611013 2023-09-07 20:50:27  122436479\n",
      "135278  1144751313      LLAM. LOCAL  1153119614 2023-09-07 20:51:10         12\n",
      "136080  1162335309   Conexion Movil   159413025 2023-09-07 20:56:37    9925536\n",
      "136589  1170286582   Conexion Movil    81469005 2023-09-07 21:00:22        484\n",
      "136741  1161686108      LLAM. LOCAL  1121684935 2023-09-07 21:01:28         82\n",
      "136874  1170286582   Conexion Movil  1909412029 2023-09-07 21:02:31  188615353\n",
      "137008  1123488404      LLAM. LOCAL  1137664349 2023-09-07 21:03:29          2\n",
      "137221  1132626386   Conexion Movil  2633212006 2023-09-07 21:04:56    4578116\n"
     ]
    }
   ],
   "source": [
    "# SALIENTES 20 minutos\n",
    "# hacemos un df con los numeros que aparecen 2 veces o menos\n",
    "df_sal_no_freq = estadistica_salientes_cero.loc[estadistica_salientes_cero['cantidad'] <= 2]\n",
    "print(df_sal_no_freq)\n",
    "# de ese def sacamos una lista con los numeros no frecuentes (son varios)\n",
    "lst_sal_nfrq = df_sal_no_freq['llamantes'].values.tolist()\n",
    "print(len(lst_sal_nfrq))\n",
    "# de salientes elegimos los rows donde llamante esta en esa lista\n",
    "salientes_nf = salientes[salientes['llamantes'].isin(lst_sal_nfrq)]\n",
    "print(salientes_nf)\n",
    "# ahora filtramos la ventana de 20 minutos\n",
    "salientes_nf_20 = salientes_nf.loc[(salientes_nf['fecha-hora'] >= '2023-09-07 20:25:00')\n",
    "                     & (salientes_nf['fecha-hora'] < '2023-09-07 21:05:00')]\n",
    "print(salientes_nf_20)"
   ]
  },
  {
   "cell_type": "code",
   "execution_count": 25,
   "id": "12eb87d8-ff53-4321-8188-9bb3694d8460",
   "metadata": {},
   "outputs": [
    {
     "name": "stdout",
     "output_type": "stream",
     "text": [
      "<class 'pandas.core.frame.DataFrame'>\n",
      "Int64Index: 18 entries, 131583 to 137221\n",
      "Data columns (total 5 columns):\n",
      " #   Column      Non-Null Count  Dtype         \n",
      "---  ------      --------------  -----         \n",
      " 0   llamantes   18 non-null     int64         \n",
      " 1   destino     18 non-null     object        \n",
      " 2   llamado     18 non-null     int64         \n",
      " 3   fecha-hora  18 non-null     datetime64[ns]\n",
      " 4   duracion    18 non-null     int64         \n",
      "dtypes: datetime64[ns](1), int64(3), object(1)\n",
      "memory usage: 864.0+ bytes\n"
     ]
    }
   ],
   "source": [
    "salientes_nf_20.info()"
   ]
  },
  {
   "cell_type": "code",
   "execution_count": 26,
   "id": "883e650f-cc14-4546-9c09-466792bd12fd",
   "metadata": {},
   "outputs": [
    {
     "name": "stdout",
     "output_type": "stream",
     "text": [
      "        llamantes  cantidad\n",
      "44039  1176145752         2\n",
      "44040  1121741664         2\n",
      "44041  1171354785         2\n",
      "44042  1132626732         2\n",
      "44043  2216258192         2\n",
      "...           ...       ...\n",
      "69409  2291501888         1\n",
      "69410  1154181869         1\n",
      "69411  1176115172         1\n",
      "69412  1158764385         1\n",
      "69413  1121804490         1\n",
      "\n",
      "[25375 rows x 2 columns]\n",
      "25375\n",
      "         llamantes         destino     llamado          fecha-hora    duracion\n",
      "293     1133078828  Conexion Movil   388515017 2023-09-13 00:01:59   630609082\n",
      "360     1167175196  Conexion Movil   419412002 2023-09-13 00:02:25    16735380\n",
      "463     1139073245  Conexion Movil     4769023 2023-09-13 00:03:33  1280277205\n",
      "1284    1171094220  Conexion Movil  1789312018 2023-09-13 00:11:40    36227895\n",
      "1377    1133597670  Conexion Movil  2412913006 2023-09-13 00:12:30    16821831\n",
      "...            ...             ...         ...                 ...         ...\n",
      "165947  1163025306     LLAM. LOCAL  1132515916 2023-08-17 23:32:57          36\n",
      "167430  1130996333  Conexion Movil  1908710005 2023-08-17 23:47:32      329078\n",
      "167587  1126903295  Conexion Movil    76098024 2023-08-17 23:49:10    48895474\n",
      "168067  1121804490  Conexion Movil   112012020 2023-08-17 23:54:15  1021499433\n",
      "168548  1126777767  Conexion Movil  2228913029 2023-08-17 23:59:54     1095270\n",
      "\n",
      "[33771 rows x 5 columns]\n",
      "         llamantes          destino     llamado          fecha-hora  duracion\n",
      "134003  1131804484  Tráfico incluid   348303885 2023-09-07 20:42:05   2130848\n",
      "134023  1131804484   TRAFICO DATOS    348303886 2023-09-07 20:42:14      3997\n",
      "134281  1138863797   Conexion Movil  1964713016 2023-09-07 20:44:12  14236203\n",
      "134966  1157345937        ASIST.RET        2747 2023-09-07 20:49:02        24\n"
     ]
    }
   ],
   "source": [
    "# SALIENTES 5 minutos\n",
    "# hacemos un df con los numeros que aparecen 2 veces o menos\n",
    "df_sal_no_freq = estadistica_salientes_cero.loc[estadistica_salientes_cero['cantidad'] <= 2]\n",
    "print(df_sal_no_freq)\n",
    "# de ese def sacamos una lista con los numeros no frecuentes (son varios)\n",
    "lst_sal_nfrq = df_sal_no_freq['llamantes'].values.tolist()\n",
    "print(len(lst_sal_nfrq))\n",
    "# de salientes elegimos los rows donde llamante esta en esa lista\n",
    "salientes_nf = salientes[salientes['llamantes'].isin(lst_sal_nfrq)]\n",
    "print(salientes_nf)\n",
    "# ahora filtramos la ventana de 20 minutos\n",
    "salientes_nf_05 = salientes_nf.loc[(salientes_nf['fecha-hora'] >= '2023-09-07 20:40:00')\n",
    "                     & (salientes_nf['fecha-hora'] < '2023-09-07 20:50:00')]\n",
    "print(salientes_nf_05)"
   ]
  },
  {
   "cell_type": "code",
   "execution_count": 27,
   "id": "ffbdb44e-8401-4839-bf04-0756168ddaff",
   "metadata": {},
   "outputs": [
    {
     "name": "stdout",
     "output_type": "stream",
     "text": [
      "<class 'pandas.core.frame.DataFrame'>\n",
      "Int64Index: 4 entries, 134003 to 134966\n",
      "Data columns (total 5 columns):\n",
      " #   Column      Non-Null Count  Dtype         \n",
      "---  ------      --------------  -----         \n",
      " 0   llamantes   4 non-null      int64         \n",
      " 1   destino     4 non-null      object        \n",
      " 2   llamado     4 non-null      int64         \n",
      " 3   fecha-hora  4 non-null      datetime64[ns]\n",
      " 4   duracion    4 non-null      int64         \n",
      "dtypes: datetime64[ns](1), int64(3), object(1)\n",
      "memory usage: 192.0+ bytes\n"
     ]
    }
   ],
   "source": [
    "salientes_nf_05.info()"
   ]
  },
  {
   "cell_type": "code",
   "execution_count": 29,
   "id": "2f84dedb-f010-482f-a955-73a379d5b0cc",
   "metadata": {},
   "outputs": [
    {
     "name": "stdout",
     "output_type": "stream",
     "text": [
      "          llamado  cantidad\n",
      "21274  1132612260         2\n",
      "21275  1134209004         2\n",
      "21276  1137891869         2\n",
      "21277  3537581453         2\n",
      "21278  1154010123         2\n",
      "...           ...       ...\n",
      "36823  1127250709         1\n",
      "36824  1127248141         1\n",
      "36825  1126833439         1\n",
      "36826  1132388306         1\n",
      "36827  1176202089         1\n",
      "\n",
      "[15554 rows x 2 columns]\n",
      "15554\n",
      "         llamado   llamantes          fecha-hora  duracion\n",
      "27    1139378534  1139542154 2023-09-13 00:17:50       359\n",
      "116   1132403665  1134631453 2023-09-13 02:02:01        32\n",
      "179   1160255780  1136008657 2023-09-13 04:58:18        17\n",
      "181   1161361617  1122658453 2023-09-13 05:00:08         2\n",
      "223   1158560410  1127062740 2023-09-13 05:46:48        40\n",
      "...          ...         ...                 ...       ...\n",
      "9604  1127194810  1166667203 2023-08-17 22:31:09       246\n",
      "9649  1127415182  1138334556 2023-08-17 22:44:14        34\n",
      "9698  1156452699  1153476660 2023-08-17 23:00:43        26\n",
      "9788  1158369868  1132515916 2023-08-17 23:38:19        23\n",
      "9815  1176202089  1151387470 2023-08-17 23:50:29        24\n",
      "\n",
      "[20665 rows x 4 columns]\n",
      "         llamado   llamantes          fecha-hora  duracion\n",
      "8937  1123841860  1150569808 2023-09-07 20:25:08        48\n",
      "9013  1160363074  1169948365 2023-09-07 20:31:39        57\n",
      "9025  1127224501  1165212800 2023-09-07 20:33:08        65\n",
      "9032  1155082345  1140633838 2023-09-07 20:33:27        52\n",
      "9041  1136542554  1126793382 2023-09-07 20:34:28        24\n",
      "9042  1136175661  1138700444 2023-09-07 20:34:30         2\n",
      "9110  1156294118  1164678323 2023-09-07 20:40:55       365\n",
      "9119  1133243077  1167686403 2023-09-07 20:42:00         1\n",
      "9126  1160191720  1169546648 2023-09-07 20:42:29        43\n",
      "9144  1160286644  1165654808 2023-09-07 20:44:07        83\n",
      "9181  1164165900  3813023189 2023-09-07 20:47:38      5116\n",
      "9191  1131910645  1158168696 2023-09-07 20:48:45       148\n",
      "9200  1157662720  1161190634 2023-09-07 20:49:44       164\n",
      "9221  1161234760  2234239322 2023-09-07 20:52:42         7\n",
      "9239  1132441220  1136313481 2023-09-07 20:54:39        19\n",
      "9270  1126860252  1170361319 2023-09-07 20:57:39        71\n",
      "9272  1139252329  1130921657 2023-09-07 20:58:14       126\n"
     ]
    }
   ],
   "source": [
    "# Entrantes 20 minutos\n",
    "# hacemos un df con los numeros que aparecen 2 veces o menos\n",
    "df_ent_no_freq = estadistica_entrantes_cero.loc[estadistica_entrantes_cero['cantidad'] <= 2]\n",
    "print(df_ent_no_freq)\n",
    "# de ese def sacamos una lista con los numeros no frecuentes (son varios)\n",
    "lst_ent_nfrq = df_ent_no_freq['llamado'].values.tolist()\n",
    "print(len(lst_ent_nfrq))\n",
    "# de salientes elegimos los rows donde llamante esta en esa lista\n",
    "entrantes_nf = entrantes[entrantes['llamado'].isin(lst_ent_nfrq)]\n",
    "print(entrantes_nf)\n",
    "# ahora filtramos la ventana de 20 minutos\n",
    "entrantes_nf_20 = entrantes_nf.loc[(entrantes_nf['fecha-hora'] >= '2023-09-07 20:25:00')\n",
    "                     & (entrantes_nf['fecha-hora'] < '2023-09-07 21:05:00')]\n",
    "print(entrantes_nf_20)"
   ]
  },
  {
   "cell_type": "code",
   "execution_count": 38,
   "id": "43100b45-3dd2-48fc-a02e-3cbb503d80c3",
   "metadata": {},
   "outputs": [
    {
     "name": "stdout",
     "output_type": "stream",
     "text": [
      "32\n"
     ]
    }
   ],
   "source": [
    "# Vamos a unificar todos los numeros en una sola lista\n",
    "lista_numeros = salientes_nf_20['llamantes'].values.tolist() + entrantes_nf_20['llamado'].values.tolist()\n",
    "lista_numeros_interes =  list(set(lista_numeros))\n",
    "# Saco el numero que realiza una llamada a un servicio\n",
    "lista_numeros_interes.remove(1157345937)\n",
    "print(len(lista_numeros_interes))\n",
    "#v = df.Parameter.value_counts()\n",
    "#salientes[salientes['llamantes'].isin(resumen_llamantes.index[resumen_llamantes.lt(2)])]"
   ]
  },
  {
   "cell_type": "code",
   "execution_count": 39,
   "id": "767d1725-fac3-4b48-9181-5b41b6da823b",
   "metadata": {},
   "outputs": [
    {
     "data": {
      "text/plain": [
       "[1157662720,\n",
       " 1132441220,\n",
       " 1164165900,\n",
       " 1127975952,\n",
       " 1123488404,\n",
       " 1168441770,\n",
       " 1136175661,\n",
       " 1122747186,\n",
       " 1160286644,\n",
       " 1138863797,\n",
       " 1127224501,\n",
       " 1160363074,\n",
       " 1131804484,\n",
       " 1123841860,\n",
       " 1133243077,\n",
       " 1161234760,\n",
       " 1162335309,\n",
       " 1134883024,\n",
       " 1144751313,\n",
       " 1132626386,\n",
       " 1137848153,\n",
       " 1136542554,\n",
       " 1161686108,\n",
       " 1126860252,\n",
       " 1156294118,\n",
       " 1160191720,\n",
       " 1155082345,\n",
       " 1139252329,\n",
       " 1168310005,\n",
       " 1170286582,\n",
       " 1131910645,\n",
       " 1122363386]"
      ]
     },
     "execution_count": 39,
     "metadata": {},
     "output_type": "execute_result"
    }
   ],
   "source": [
    "lista_numeros_interes"
   ]
  },
  {
   "cell_type": "code",
   "execution_count": null,
   "id": "c8f296d7-70f9-4871-9ad2-bced7be70643",
   "metadata": {},
   "outputs": [],
   "source": []
  }
 ],
 "metadata": {
  "kernelspec": {
   "display_name": "Python 3 (ipykernel)",
   "language": "python",
   "name": "python3"
  },
  "language_info": {
   "codemirror_mode": {
    "name": "ipython",
    "version": 3
   },
   "file_extension": ".py",
   "mimetype": "text/x-python",
   "name": "python",
   "nbconvert_exporter": "python",
   "pygments_lexer": "ipython3",
   "version": "3.10.13"
  }
 },
 "nbformat": 4,
 "nbformat_minor": 5
}
