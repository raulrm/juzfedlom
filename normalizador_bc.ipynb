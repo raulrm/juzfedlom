{
 "cells": [
  {
   "cell_type": "markdown",
   "id": "d28cb7a6-c382-4777-aac2-106c3a674392",
   "metadata": {},
   "source": [
    "Aqui vamos a trabajar con bandicoot, por eso hay que modificar el formato del dataser"
   ]
  },
  {
   "cell_type": "code",
   "execution_count": 6,
   "id": "17510201-7b63-4562-9a96-712f188a377e",
   "metadata": {},
   "outputs": [],
   "source": [
    "# importamos librerias varias\n",
    "import pandas as pd\n",
    "from multiprocessing import Pool\n",
    "from pandas_ods_reader import read_ods\n",
    "import glob\n",
    "import bandicoot as bc"
   ]
  },
  {
   "cell_type": "code",
   "execution_count": 7,
   "id": "2a349556-6f39-4b91-b862-ceeb586576d4",
   "metadata": {},
   "outputs": [
    {
     "ename": "UnpicklingError",
     "evalue": "invalid load key, 'v'.",
     "output_type": "error",
     "traceback": [
      "\u001b[0;31m---------------------------------------------------------------------------\u001b[0m",
      "\u001b[0;31mUnpicklingError\u001b[0m                           Traceback (most recent call last)",
      "File \u001b[0;32m<timed exec>:2\u001b[0m\n",
      "File \u001b[0;32m~/anaconda3/envs/juzfedlom/lib/python3.10/site-packages/pandas/io/pickle.py:208\u001b[0m, in \u001b[0;36mread_pickle\u001b[0;34m(filepath_or_buffer, compression, storage_options)\u001b[0m\n\u001b[1;32m    205\u001b[0m     \u001b[38;5;28;01mwith\u001b[39;00m warnings\u001b[38;5;241m.\u001b[39mcatch_warnings(record\u001b[38;5;241m=\u001b[39m\u001b[38;5;28;01mTrue\u001b[39;00m):\n\u001b[1;32m    206\u001b[0m         \u001b[38;5;66;03m# We want to silence any warnings about, e.g. moved modules.\u001b[39;00m\n\u001b[1;32m    207\u001b[0m         warnings\u001b[38;5;241m.\u001b[39msimplefilter(\u001b[38;5;124m\"\u001b[39m\u001b[38;5;124mignore\u001b[39m\u001b[38;5;124m\"\u001b[39m, \u001b[38;5;167;01mWarning\u001b[39;00m)\n\u001b[0;32m--> 208\u001b[0m         \u001b[38;5;28;01mreturn\u001b[39;00m \u001b[43mpickle\u001b[49m\u001b[38;5;241;43m.\u001b[39;49m\u001b[43mload\u001b[49m\u001b[43m(\u001b[49m\u001b[43mhandles\u001b[49m\u001b[38;5;241;43m.\u001b[39;49m\u001b[43mhandle\u001b[49m\u001b[43m)\u001b[49m\n\u001b[1;32m    209\u001b[0m \u001b[38;5;28;01mexcept\u001b[39;00m excs_to_catch:\n\u001b[1;32m    210\u001b[0m     \u001b[38;5;66;03m# e.g.\u001b[39;00m\n\u001b[1;32m    211\u001b[0m     \u001b[38;5;66;03m#  \"No module named 'pandas.core.sparse.series'\"\u001b[39;00m\n\u001b[1;32m    212\u001b[0m     \u001b[38;5;66;03m#  \"Can't get attribute '__nat_unpickle' on <module 'pandas._libs.tslib\"\u001b[39;00m\n\u001b[1;32m    213\u001b[0m     \u001b[38;5;28;01mreturn\u001b[39;00m pc\u001b[38;5;241m.\u001b[39mload(handles\u001b[38;5;241m.\u001b[39mhandle, encoding\u001b[38;5;241m=\u001b[39m\u001b[38;5;28;01mNone\u001b[39;00m)\n",
      "\u001b[0;31mUnpicklingError\u001b[0m: invalid load key, 'v'."
     ]
    }
   ],
   "source": [
    "%%time\n",
    "# Cargamos desde los pickles\n",
    "salientes = pd.read_pickle('salientes.pkl')\n",
    "entrantes = pd.read_pickle('entrantes.pkl')\n"
   ]
  },
  {
   "cell_type": "code",
   "execution_count": 2,
   "id": "8001a501-d772-461e-9c1e-ea5d9f446afb",
   "metadata": {},
   "outputs": [
    {
     "name": "stdout",
     "output_type": "stream",
     "text": [
      "Python 3.11.2\n"
     ]
    }
   ],
   "source": [
    "!python --version"
   ]
  },
  {
   "cell_type": "code",
   "execution_count": 4,
   "id": "0a439b3f-8678-49e3-b327-645b1fd572df",
   "metadata": {},
   "outputs": [
    {
     "data": {
      "text/html": [
       "<div>\n",
       "<style scoped>\n",
       "    .dataframe tbody tr th:only-of-type {\n",
       "        vertical-align: middle;\n",
       "    }\n",
       "\n",
       "    .dataframe tbody tr th {\n",
       "        vertical-align: top;\n",
       "    }\n",
       "\n",
       "    .dataframe thead th {\n",
       "        text-align: right;\n",
       "    }\n",
       "</style>\n",
       "<table border=\"1\" class=\"dataframe\">\n",
       "  <thead>\n",
       "    <tr style=\"text-align: right;\">\n",
       "      <th></th>\n",
       "      <th>llamantes</th>\n",
       "      <th>destino</th>\n",
       "      <th>llamado</th>\n",
       "      <th>fecha-hora</th>\n",
       "      <th>duracion</th>\n",
       "    </tr>\n",
       "  </thead>\n",
       "  <tbody>\n",
       "    <tr>\n",
       "      <th>0</th>\n",
       "      <td>1132658418</td>\n",
       "      <td>Tráfico incluid</td>\n",
       "      <td>320509576</td>\n",
       "      <td>2023-09-13 00:00:00</td>\n",
       "      <td>67839</td>\n",
       "    </tr>\n",
       "    <tr>\n",
       "      <th>1</th>\n",
       "      <td>1167935609</td>\n",
       "      <td>Conexion Movil</td>\n",
       "      <td>263086005</td>\n",
       "      <td>2023-09-13 00:00:00</td>\n",
       "      <td>107449708</td>\n",
       "    </tr>\n",
       "    <tr>\n",
       "      <th>2</th>\n",
       "      <td>1169200429</td>\n",
       "      <td>Tráfico incluid</td>\n",
       "      <td>318849629</td>\n",
       "      <td>2023-09-13 00:00:00</td>\n",
       "      <td>794136</td>\n",
       "    </tr>\n",
       "    <tr>\n",
       "      <th>3</th>\n",
       "      <td>1126429480</td>\n",
       "      <td>Conexión Móvil</td>\n",
       "      <td>311835802</td>\n",
       "      <td>2023-09-13 00:00:01</td>\n",
       "      <td>2881</td>\n",
       "    </tr>\n",
       "    <tr>\n",
       "      <th>4</th>\n",
       "      <td>1137834970</td>\n",
       "      <td>Conexión Móvil</td>\n",
       "      <td>219224765</td>\n",
       "      <td>2023-09-13 00:00:02</td>\n",
       "      <td>2417</td>\n",
       "    </tr>\n",
       "    <tr>\n",
       "      <th>...</th>\n",
       "      <td>...</td>\n",
       "      <td>...</td>\n",
       "      <td>...</td>\n",
       "      <td>...</td>\n",
       "      <td>...</td>\n",
       "    </tr>\n",
       "    <tr>\n",
       "      <th>168558</th>\n",
       "      <td>2204715158</td>\n",
       "      <td>LLAM. LOCAL</td>\n",
       "      <td>1151514315</td>\n",
       "      <td>2023-08-17 23:59:58</td>\n",
       "      <td>2</td>\n",
       "    </tr>\n",
       "    <tr>\n",
       "      <th>168559</th>\n",
       "      <td>1122414019</td>\n",
       "      <td>Conexion Movil</td>\n",
       "      <td>2702115002</td>\n",
       "      <td>2023-08-18 00:00:00</td>\n",
       "      <td>27374385</td>\n",
       "    </tr>\n",
       "    <tr>\n",
       "      <th>168560</th>\n",
       "      <td>1126314023</td>\n",
       "      <td>Conexion Movil</td>\n",
       "      <td>476812028</td>\n",
       "      <td>2023-08-18 00:00:00</td>\n",
       "      <td>7798686</td>\n",
       "    </tr>\n",
       "    <tr>\n",
       "      <th>168561</th>\n",
       "      <td>1133381500</td>\n",
       "      <td>WhatsApp Gratis</td>\n",
       "      <td>286956146</td>\n",
       "      <td>2023-08-18 00:00:00</td>\n",
       "      <td>386</td>\n",
       "    </tr>\n",
       "    <tr>\n",
       "      <th>168562</th>\n",
       "      <td>1162178593</td>\n",
       "      <td>Conexión Móvil</td>\n",
       "      <td>911643305</td>\n",
       "      <td>2023-08-18 00:00:00</td>\n",
       "      <td>230</td>\n",
       "    </tr>\n",
       "  </tbody>\n",
       "</table>\n",
       "<p>6986719 rows × 5 columns</p>\n",
       "</div>"
      ],
      "text/plain": [
       "         llamantes          destino     llamado          fecha-hora   duracion\n",
       "0       1132658418  Tráfico incluid   320509576 2023-09-13 00:00:00      67839\n",
       "1       1167935609   Conexion Movil   263086005 2023-09-13 00:00:00  107449708\n",
       "2       1169200429  Tráfico incluid   318849629 2023-09-13 00:00:00     794136\n",
       "3       1126429480   Conexión Móvil   311835802 2023-09-13 00:00:01       2881\n",
       "4       1137834970   Conexión Móvil   219224765 2023-09-13 00:00:02       2417\n",
       "...            ...              ...         ...                 ...        ...\n",
       "168558  2204715158      LLAM. LOCAL  1151514315 2023-08-17 23:59:58          2\n",
       "168559  1122414019   Conexion Movil  2702115002 2023-08-18 00:00:00   27374385\n",
       "168560  1126314023   Conexion Movil   476812028 2023-08-18 00:00:00    7798686\n",
       "168561  1133381500  WhatsApp Gratis   286956146 2023-08-18 00:00:00        386\n",
       "168562  1162178593   Conexión Móvil   911643305 2023-08-18 00:00:00        230\n",
       "\n",
       "[6986719 rows x 5 columns]"
      ]
     },
     "execution_count": 4,
     "metadata": {},
     "output_type": "execute_result"
    }
   ],
   "source": [
    "salientes"
   ]
  },
  {
   "cell_type": "code",
   "execution_count": null,
   "id": "854b83d0-0ca1-4fd0-9105-ee26bb327405",
   "metadata": {},
   "outputs": [],
   "source": [
    "# e cambiamos los nombres"
   ]
  }
 ],
 "metadata": {
  "kernelspec": {
   "display_name": "Python 3 (ipykernel)",
   "language": "python",
   "name": "python3"
  },
  "language_info": {
   "codemirror_mode": {
    "name": "ipython",
    "version": 3
   },
   "file_extension": ".py",
   "mimetype": "text/x-python",
   "name": "python",
   "nbconvert_exporter": "python",
   "pygments_lexer": "ipython3",
   "version": "3.10.13"
  }
 },
 "nbformat": 4,
 "nbformat_minor": 5
}
