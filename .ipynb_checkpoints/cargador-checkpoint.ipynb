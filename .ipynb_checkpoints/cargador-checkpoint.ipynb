{
 "cells": [
  {
   "cell_type": "code",
   "execution_count": 1,
   "id": "bdff7269-a193-4599-a4d5-713bf17ffee9",
   "metadata": {},
   "outputs": [],
   "source": [
    "# importamos librerias varias\n",
    "import pandas as pd\n",
    "from pandas_ods_reader import read_ods\n",
    "import glob"
   ]
  },
  {
   "cell_type": "code",
   "execution_count": 2,
   "id": "c714b28c-43be-42b3-b639-41bae6d96e28",
   "metadata": {},
   "outputs": [],
   "source": [
    "# hacemos una lista con los archivos\n",
    "archivos = glob.glob('*.ods')\n",
    "# imprimimos la lista para ver si esta bien\n",
    "# archivos"
   ]
  },
  {
   "cell_type": "code",
   "execution_count": null,
   "id": "6f7d7031-b9fb-4a01-bc79-7a526d48e202",
   "metadata": {},
   "outputs": [
    {
     "name": "stdout",
     "output_type": "stream",
     "text": [
      "ARCHIVO 12.ods\n",
      "ARCHVIO 32.ods\n",
      "ARCHIVO 34.ods\n"
     ]
    }
   ],
   "source": [
    "# Hacemos dos dataframes vacios\n",
    "salientes = pd.DataFrame()\n",
    "entrantes = pd.DataFrame()\n",
    "\n",
    "# recorremos todos los archivos en un loop\n",
    "for archivo in archivos:\n",
    "    temporal = pd.read_excel(archivo, engine='odf', skiprows=10, sheet_name='Salientes')\n",
    "    salientes = pd.concat([salientes, temporal])\n",
    "    temporal = pd.read_excel(archivo, engine='odf', skiprows=10, sheet_name='Entrantes')\n",
    "    entrantes = pd.concat([entrantes, temporal])\n",
    "    print(archivo)"
   ]
  },
  {
   "cell_type": "code",
   "execution_count": null,
   "id": "e9ae240a-77eb-4058-9d37-fd8f142613e0",
   "metadata": {
    "editable": true,
    "slideshow": {
     "slide_type": ""
    },
    "tags": []
   },
   "outputs": [],
   "source": [
    "entrantes.to_pickle('./entrantes.pkl')\n",
    "salientes.to_pickle('./salientes.pkl')"
   ]
  }
 ],
 "metadata": {
  "kernelspec": {
   "display_name": "Python 3 (ipykernel)",
   "language": "python",
   "name": "python3"
  },
  "language_info": {
   "codemirror_mode": {
    "name": "ipython",
    "version": 3
   },
   "file_extension": ".py",
   "mimetype": "text/x-python",
   "name": "python",
   "nbconvert_exporter": "python",
   "pygments_lexer": "ipython3",
   "version": "3.11.2"
  }
 },
 "nbformat": 4,
 "nbformat_minor": 5
}
